{
 "cells": [
  {
   "cell_type": "markdown",
   "metadata": {},
   "source": [
    "<img align=\"right\" src=\"https://upload.wikimedia.org/wikipedia/commons/c/c8/Iteso_logo.jpg\" width=\"100\" height=\"100\">\n",
    " \n",
    "# <font color='#797983'> **Proyecto de Ciencia de Datos | Primavera 2024.**\n",
    "### <font color='#1A2478'> **Instituto Tecnológico y de Estudios Superiores de Occidente**.\n",
    " \n",
    "**<font color='#797983'>Nombre:** Contreras Figueroa Javier Alejandro\n",
    "   \n",
    "**<font color='#797983'>Expediente:** 739708\n",
    "   \n",
    "**<font color='#797983'>Profesor:** Cristian Camilo Zapata Zuluaga.\n",
    "   \n",
    "**<font color='#797983'>Fecha:** 02/febrero/2024\n",
    "   \n",
    "## <font color='#797983'> **Tarea 3**"
   ]
  },
  {
   "cell_type": "code",
   "execution_count": 112,
   "metadata": {},
   "outputs": [],
   "source": [
    "import pandas as pd\n",
    "import matplotlib.pyplot as pyplot"
   ]
  },
  {
   "cell_type": "code",
   "execution_count": 113,
   "metadata": {},
   "outputs": [
    {
     "data": {
      "text/html": [
       "<div>\n",
       "<style scoped>\n",
       "    .dataframe tbody tr th:only-of-type {\n",
       "        vertical-align: middle;\n",
       "    }\n",
       "\n",
       "    .dataframe tbody tr th {\n",
       "        vertical-align: top;\n",
       "    }\n",
       "\n",
       "    .dataframe thead th {\n",
       "        text-align: right;\n",
       "    }\n",
       "</style>\n",
       "<table border=\"1\" class=\"dataframe\">\n",
       "  <thead>\n",
       "    <tr style=\"text-align: right;\">\n",
       "      <th></th>\n",
       "      <th>movieId</th>\n",
       "      <th>title</th>\n",
       "      <th>genres</th>\n",
       "    </tr>\n",
       "  </thead>\n",
       "  <tbody>\n",
       "    <tr>\n",
       "      <th>0</th>\n",
       "      <td>1</td>\n",
       "      <td>Toy Story (1995)</td>\n",
       "      <td>Adventure|Animation|Children|Comedy|Fantasy</td>\n",
       "    </tr>\n",
       "    <tr>\n",
       "      <th>1</th>\n",
       "      <td>2</td>\n",
       "      <td>Jumanji (1995)</td>\n",
       "      <td>Adventure|Children|Fantasy</td>\n",
       "    </tr>\n",
       "    <tr>\n",
       "      <th>2</th>\n",
       "      <td>3</td>\n",
       "      <td>Grumpier Old Men (1995)</td>\n",
       "      <td>Comedy|Romance</td>\n",
       "    </tr>\n",
       "    <tr>\n",
       "      <th>3</th>\n",
       "      <td>4</td>\n",
       "      <td>Waiting to Exhale (1995)</td>\n",
       "      <td>Comedy|Drama|Romance</td>\n",
       "    </tr>\n",
       "    <tr>\n",
       "      <th>4</th>\n",
       "      <td>5</td>\n",
       "      <td>Father of the Bride Part II (1995)</td>\n",
       "      <td>Comedy</td>\n",
       "    </tr>\n",
       "  </tbody>\n",
       "</table>\n",
       "</div>"
      ],
      "text/plain": [
       "   movieId                               title  \\\n",
       "0        1                    Toy Story (1995)   \n",
       "1        2                      Jumanji (1995)   \n",
       "2        3             Grumpier Old Men (1995)   \n",
       "3        4            Waiting to Exhale (1995)   \n",
       "4        5  Father of the Bride Part II (1995)   \n",
       "\n",
       "                                        genres  \n",
       "0  Adventure|Animation|Children|Comedy|Fantasy  \n",
       "1                   Adventure|Children|Fantasy  \n",
       "2                               Comedy|Romance  \n",
       "3                         Comedy|Drama|Romance  \n",
       "4                                       Comedy  "
      ]
     },
     "execution_count": 113,
     "metadata": {},
     "output_type": "execute_result"
    }
   ],
   "source": [
    "# Leemos el dataset que serán necesarios, en este caso el d emovies y el rating, al menos por ahora\n",
    "df = pd.read_csv(\"../data/movies.csv\")\n",
    "dff = pd.read_csv(\"../data/ratings.csv\")\n",
    "df.head()"
   ]
  },
  {
   "cell_type": "code",
   "execution_count": 114,
   "metadata": {},
   "outputs": [
    {
     "data": {
      "text/html": [
       "<div>\n",
       "<style scoped>\n",
       "    .dataframe tbody tr th:only-of-type {\n",
       "        vertical-align: middle;\n",
       "    }\n",
       "\n",
       "    .dataframe tbody tr th {\n",
       "        vertical-align: top;\n",
       "    }\n",
       "\n",
       "    .dataframe thead th {\n",
       "        text-align: right;\n",
       "    }\n",
       "</style>\n",
       "<table border=\"1\" class=\"dataframe\">\n",
       "  <thead>\n",
       "    <tr style=\"text-align: right;\">\n",
       "      <th></th>\n",
       "      <th>userId</th>\n",
       "      <th>movieId</th>\n",
       "      <th>rating</th>\n",
       "      <th>timestamp</th>\n",
       "    </tr>\n",
       "  </thead>\n",
       "  <tbody>\n",
       "    <tr>\n",
       "      <th>0</th>\n",
       "      <td>1</td>\n",
       "      <td>1</td>\n",
       "      <td>4.0</td>\n",
       "      <td>964982703</td>\n",
       "    </tr>\n",
       "    <tr>\n",
       "      <th>1</th>\n",
       "      <td>1</td>\n",
       "      <td>3</td>\n",
       "      <td>4.0</td>\n",
       "      <td>964981247</td>\n",
       "    </tr>\n",
       "    <tr>\n",
       "      <th>2</th>\n",
       "      <td>1</td>\n",
       "      <td>6</td>\n",
       "      <td>4.0</td>\n",
       "      <td>964982224</td>\n",
       "    </tr>\n",
       "    <tr>\n",
       "      <th>3</th>\n",
       "      <td>1</td>\n",
       "      <td>47</td>\n",
       "      <td>5.0</td>\n",
       "      <td>964983815</td>\n",
       "    </tr>\n",
       "    <tr>\n",
       "      <th>4</th>\n",
       "      <td>1</td>\n",
       "      <td>50</td>\n",
       "      <td>5.0</td>\n",
       "      <td>964982931</td>\n",
       "    </tr>\n",
       "  </tbody>\n",
       "</table>\n",
       "</div>"
      ],
      "text/plain": [
       "   userId  movieId  rating  timestamp\n",
       "0       1        1     4.0  964982703\n",
       "1       1        3     4.0  964981247\n",
       "2       1        6     4.0  964982224\n",
       "3       1       47     5.0  964983815\n",
       "4       1       50     5.0  964982931"
      ]
     },
     "execution_count": 114,
     "metadata": {},
     "output_type": "execute_result"
    }
   ],
   "source": [
    "# Para ver el contenido d emanera rápida, simplemente hacemos el head\n",
    "dff.head()"
   ]
  },
  {
   "cell_type": "markdown",
   "metadata": {},
   "source": [
    "- Revisamos como vienen los datos para saber si es necesario alguna transformación."
   ]
  },
  {
   "cell_type": "code",
   "execution_count": 115,
   "metadata": {},
   "outputs": [
    {
     "data": {
      "text/plain": [
       "movieId     int64\n",
       "title      object\n",
       "genres     object\n",
       "dtype: object"
      ]
     },
     "execution_count": 115,
     "metadata": {},
     "output_type": "execute_result"
    }
   ],
   "source": [
    "df.dtypes"
   ]
  },
  {
   "cell_type": "code",
   "execution_count": 116,
   "metadata": {},
   "outputs": [
    {
     "data": {
      "text/plain": [
       "userId         int64\n",
       "movieId        int64\n",
       "rating       float64\n",
       "timestamp      int64\n",
       "dtype: object"
      ]
     },
     "execution_count": 116,
     "metadata": {},
     "output_type": "execute_result"
    }
   ],
   "source": [
    "dff.dtypes"
   ]
  },
  {
   "cell_type": "markdown",
   "metadata": {},
   "source": [
    "- Considero que el userId debería ser tipo object ya que si se usa en alguna operación puede modificarse, aunque por ahora creo que no es necesario."
   ]
  },
  {
   "cell_type": "markdown",
   "metadata": {},
   "source": [
    "## Preguntas\n",
    "- Cuáles fueron los géneros mejor rankeados en promedio en el año 2005?\n",
    "- Cuál es el top 5 de películas mejor rankeadas en promedio?\n",
    "- cuál es el genero con más reviews?\n",
    "- Cuál es el género por año con mejor rating entre el año 2000 y 2010?\n",
    "- Cuál es el usuario con más ccríticas y cuál es su género favorito?"
   ]
  },
  {
   "cell_type": "markdown",
   "metadata": {},
   "source": [
    "- 1. ¿Cuáles fueron los géneros mejor rankeados en promedio en el año 2005?"
   ]
  },
  {
   "cell_type": "code",
   "execution_count": 117,
   "metadata": {},
   "outputs": [],
   "source": [
    "# Convertir timestamp a formato de fecha\n",
    "dff['timestamp'] = pd.to_datetime(dff['timestamp'], unit='s')"
   ]
  },
  {
   "cell_type": "code",
   "execution_count": 118,
   "metadata": {},
   "outputs": [],
   "source": [
    "# Como quiero filtrar por año lo agrego, esto es más por querer\n",
    "dff['year'] = dff['timestamp'].dt.year"
   ]
  },
  {
   "cell_type": "code",
   "execution_count": 119,
   "metadata": {},
   "outputs": [
    {
     "data": {
      "text/html": [
       "<div>\n",
       "<style scoped>\n",
       "    .dataframe tbody tr th:only-of-type {\n",
       "        vertical-align: middle;\n",
       "    }\n",
       "\n",
       "    .dataframe tbody tr th {\n",
       "        vertical-align: top;\n",
       "    }\n",
       "\n",
       "    .dataframe thead th {\n",
       "        text-align: right;\n",
       "    }\n",
       "</style>\n",
       "<table border=\"1\" class=\"dataframe\">\n",
       "  <thead>\n",
       "    <tr style=\"text-align: right;\">\n",
       "      <th></th>\n",
       "      <th>userId</th>\n",
       "      <th>movieId</th>\n",
       "      <th>rating</th>\n",
       "      <th>timestamp</th>\n",
       "      <th>year</th>\n",
       "    </tr>\n",
       "  </thead>\n",
       "  <tbody>\n",
       "    <tr>\n",
       "      <th>0</th>\n",
       "      <td>1</td>\n",
       "      <td>1</td>\n",
       "      <td>4.0</td>\n",
       "      <td>2000-07-30 18:45:03</td>\n",
       "      <td>2000</td>\n",
       "    </tr>\n",
       "  </tbody>\n",
       "</table>\n",
       "</div>"
      ],
      "text/plain": [
       "   userId  movieId  rating           timestamp  year\n",
       "0       1        1     4.0 2000-07-30 18:45:03  2000"
      ]
     },
     "execution_count": 119,
     "metadata": {},
     "output_type": "execute_result"
    }
   ],
   "source": [
    "dff.head(1)"
   ]
  },
  {
   "cell_type": "code",
   "execution_count": 120,
   "metadata": {},
   "outputs": [],
   "source": [
    "# Filtramos las filas para el año 2005\n",
    "# pppp = dff.sort_values(by='year', ascending=False)\n",
    "dff_del_2005 = dff[dff['year'] == 2005]\n",
    "AVG_por_genero = dff_del_2005.groupby(df['genres'])['rating'].mean()"
   ]
  },
  {
   "cell_type": "code",
   "execution_count": 121,
   "metadata": {},
   "outputs": [
    {
     "data": {
      "text/plain": [
       "genres\n",
       "Children|Comedy|Romance                  5.000000\n",
       "Action|Adventure|Animation|Horror        5.000000\n",
       "Adventure|Drama|Romance                  5.000000\n",
       "Comedy|Sci-Fi|Thriller                   5.000000\n",
       "Action|Adventure|Horror|Sci-Fi           5.000000\n",
       "Action|Drama|Thriller                    4.666667\n",
       "Action|Drama|Mystery|Romance|Thriller    4.500000\n",
       "Action|Drama|Romance|War                 4.500000\n",
       "Adventure|Drama|War                      4.500000\n",
       "Comedy|Drama|Horror                      4.500000\n",
       "Name: rating, dtype: float64"
      ]
     },
     "execution_count": 121,
     "metadata": {},
     "output_type": "execute_result"
    }
   ],
   "source": [
    "# Ordenamos las salidas para ver cuales son los mas altos\n",
    "p1 = AVG_por_genero.sort_values(ascending=False)\n",
    "p1.head(10)"
   ]
  },
  {
   "cell_type": "markdown",
   "metadata": {},
   "source": [
    "- 2. ¿Cuál es el top 5 de películas mejor rankeadas en promedio?"
   ]
  },
  {
   "cell_type": "markdown",
   "metadata": {},
   "source": [
    "- Para no tener los dos dataframes separados los unire para no tener confusión por mi."
   ]
  },
  {
   "cell_type": "code",
   "execution_count": 122,
   "metadata": {},
   "outputs": [
    {
     "data": {
      "text/html": [
       "<div>\n",
       "<style scoped>\n",
       "    .dataframe tbody tr th:only-of-type {\n",
       "        vertical-align: middle;\n",
       "    }\n",
       "\n",
       "    .dataframe tbody tr th {\n",
       "        vertical-align: top;\n",
       "    }\n",
       "\n",
       "    .dataframe thead th {\n",
       "        text-align: right;\n",
       "    }\n",
       "</style>\n",
       "<table border=\"1\" class=\"dataframe\">\n",
       "  <thead>\n",
       "    <tr style=\"text-align: right;\">\n",
       "      <th></th>\n",
       "      <th>movieId</th>\n",
       "      <th>title</th>\n",
       "      <th>genres</th>\n",
       "      <th>userId</th>\n",
       "      <th>rating</th>\n",
       "      <th>timestamp</th>\n",
       "      <th>year</th>\n",
       "    </tr>\n",
       "  </thead>\n",
       "  <tbody>\n",
       "    <tr>\n",
       "      <th>0</th>\n",
       "      <td>1</td>\n",
       "      <td>Toy Story (1995)</td>\n",
       "      <td>Adventure|Animation|Children|Comedy|Fantasy</td>\n",
       "      <td>1</td>\n",
       "      <td>4.0</td>\n",
       "      <td>2000-07-30 18:45:03</td>\n",
       "      <td>2000</td>\n",
       "    </tr>\n",
       "    <tr>\n",
       "      <th>1</th>\n",
       "      <td>1</td>\n",
       "      <td>Toy Story (1995)</td>\n",
       "      <td>Adventure|Animation|Children|Comedy|Fantasy</td>\n",
       "      <td>5</td>\n",
       "      <td>4.0</td>\n",
       "      <td>1996-11-08 06:36:02</td>\n",
       "      <td>1996</td>\n",
       "    </tr>\n",
       "    <tr>\n",
       "      <th>2</th>\n",
       "      <td>1</td>\n",
       "      <td>Toy Story (1995)</td>\n",
       "      <td>Adventure|Animation|Children|Comedy|Fantasy</td>\n",
       "      <td>7</td>\n",
       "      <td>4.5</td>\n",
       "      <td>2005-01-25 06:52:26</td>\n",
       "      <td>2005</td>\n",
       "    </tr>\n",
       "  </tbody>\n",
       "</table>\n",
       "</div>"
      ],
      "text/plain": [
       "   movieId             title                                       genres  \\\n",
       "0        1  Toy Story (1995)  Adventure|Animation|Children|Comedy|Fantasy   \n",
       "1        1  Toy Story (1995)  Adventure|Animation|Children|Comedy|Fantasy   \n",
       "2        1  Toy Story (1995)  Adventure|Animation|Children|Comedy|Fantasy   \n",
       "\n",
       "   userId  rating           timestamp  year  \n",
       "0       1     4.0 2000-07-30 18:45:03  2000  \n",
       "1       5     4.0 1996-11-08 06:36:02  1996  \n",
       "2       7     4.5 2005-01-25 06:52:26  2005  "
      ]
     },
     "execution_count": 122,
     "metadata": {},
     "output_type": "execute_result"
    }
   ],
   "source": [
    "data = pd.merge(df, dff, on='movieId')\n",
    "data.head(3)"
   ]
  },
  {
   "cell_type": "code",
   "execution_count": 123,
   "metadata": {},
   "outputs": [
    {
     "data": {
      "text/plain": [
       "title                                    year\n",
       "'71 (2014)                               2017    4.0\n",
       "'Hellboy': The Seeds of Creation (2004)  2012    4.0\n",
       "'Round Midnight (1986)                   2012    3.5\n",
       "'Salem's Lot (2004)                      2012    5.0\n",
       "'Til There Was You (1997)                2001    3.0\n",
       "                                         2012    5.0\n",
       "'Tis the Season for Love (2015)          2016    1.5\n",
       "'burbs, The (1989)                       2000    2.6\n",
       "                                         2001    5.0\n",
       "                                         2003    2.0\n",
       "Name: rating, dtype: float64"
      ]
     },
     "execution_count": 123,
     "metadata": {},
     "output_type": "execute_result"
    }
   ],
   "source": [
    "AVG_por_title = data.groupby([\"title\", \"year\"])['rating'].mean()\n",
    "AVG_por_title.head(10)"
   ]
  },
  {
   "cell_type": "code",
   "execution_count": 124,
   "metadata": {},
   "outputs": [
    {
     "data": {
      "text/plain": [
       "title                                                             year\n",
       "Hello, Dolly! (1969)                                              2015    5.0\n",
       "Monty Python's And Now for Something Completely Different (1971)  2015    5.0\n",
       "Farewell My Concubine (Ba wang bie ji) (1993)                     1999    5.0\n",
       "All About Eve (1950)                                              1998    5.0\n",
       "                                                                  1997    5.0\n",
       "Name: rating, dtype: float64"
      ]
     },
     "execution_count": 124,
     "metadata": {},
     "output_type": "execute_result"
    }
   ],
   "source": [
    "# ordenamos de forma descendente\n",
    "p2 = AVG_por_title.sort_values(ascending=False)\n",
    "p2.head(5)"
   ]
  },
  {
   "cell_type": "markdown",
   "metadata": {},
   "source": [
    "- 3. ¿Cuál es el genero con más reviews?"
   ]
  },
  {
   "cell_type": "code",
   "execution_count": 125,
   "metadata": {},
   "outputs": [
    {
     "data": {
      "text/plain": [
       "genres\n",
       "Comedy                                    7196\n",
       "Drama                                     6291\n",
       "Comedy|Romance                            3967\n",
       "Comedy|Drama|Romance                      3000\n",
       "Comedy|Drama                              2851\n",
       "                                          ... \n",
       "Crime|Drama|Film-Noir|Romance                1\n",
       "Crime|Drama|Film-Noir|Romance|Thriller       1\n",
       "Adventure|Fantasy|Musical|Romance            1\n",
       "Crime|Drama|Horror|Mystery                   1\n",
       "Comedy|Romance|Western                       1\n",
       "Name: rating, Length: 951, dtype: int64"
      ]
     },
     "execution_count": 125,
     "metadata": {},
     "output_type": "execute_result"
    }
   ],
   "source": [
    "p3 = data.groupby('genres')['rating'].count()\n",
    "p3 = p3.sort_values(ascending=False)\n",
    "p3"
   ]
  },
  {
   "cell_type": "code",
   "execution_count": 126,
   "metadata": {},
   "outputs": [
    {
     "data": {
      "text/plain": [
       "'Comedy'"
      ]
     },
     "execution_count": 126,
     "metadata": {},
     "output_type": "execute_result"
    }
   ],
   "source": [
    "# Como nos están preguntando solamente el género con mayor reseña, podría ser únicamente buscar el mayor con la función idxmax()\n",
    "p3_1 = p3.idxmax()\n",
    "p3_1"
   ]
  },
  {
   "cell_type": "markdown",
   "metadata": {},
   "source": [
    "- 4. ¿Cuál es el género por año con mejor rating entre el año 2000 y 2010?"
   ]
  },
  {
   "cell_type": "code",
   "execution_count": 127,
   "metadata": {},
   "outputs": [],
   "source": [
    "# Filtra los datos para el período de 2000 a 2010\n",
    "entre_years = data[(data['year'] >= 2000) & (data['year'] <= 2010)]"
   ]
  },
  {
   "cell_type": "code",
   "execution_count": 128,
   "metadata": {},
   "outputs": [],
   "source": [
    "#data.count()"
   ]
  },
  {
   "cell_type": "code",
   "execution_count": 129,
   "metadata": {},
   "outputs": [],
   "source": [
    "#entre_year.count()"
   ]
  },
  {
   "cell_type": "code",
   "execution_count": 130,
   "metadata": {},
   "outputs": [
    {
     "data": {
      "text/plain": [
       "year\n",
       "2000               (2000, Animation|Comedy|Drama|Fantasy)\n",
       "2001                         (2001, Action|Drama|Western)\n",
       "2002     (2002, Action|Adventure|Animation|Horror|Sci-Fi)\n",
       "2003     (2003, Action|Adventure|Animation|Drama|Fantasy)\n",
       "2004    (2004, Adventure|Children|Comedy|Fantasy|Musical)\n",
       "2005                   (2005, Adventure|Animation|Comedy)\n",
       "2006                   (2006, Action|Romance|War|Western)\n",
       "2007    (2007, Adventure|Animation|Children|Comedy|Sci...\n",
       "2008    (2008, Adventure|Animation|Children|Comedy|Sci...\n",
       "2009    (2009, Action|Adventure|Mystery|Romance|Thriller)\n",
       "2010                        (2010, Action|Comedy|Musical)\n",
       "Name: rating, dtype: object"
      ]
     },
     "execution_count": 130,
     "metadata": {},
     "output_type": "execute_result"
    }
   ],
   "source": [
    "peli_per_year = entre_years.groupby(['year', 'genres'])['rating'].mean().groupby('year').idxmax()\n",
    "peli_per_year.head(11)\n",
    "p4 = peli_per_year\n",
    "p4"
   ]
  },
  {
   "cell_type": "markdown",
   "metadata": {},
   "source": [
    "- 5. ¿Cuál es el usuario con más críticas y cuál es su género favorito?"
   ]
  },
  {
   "cell_type": "code",
   "execution_count": 131,
   "metadata": {},
   "outputs": [
    {
     "name": "stdout",
     "output_type": "stream",
     "text": [
      "El usuario con mayor cantidad de críticas es el usuario: 414\n",
      "El género favorito del usuario es: Action|Adventure|Animation|Children|Comedy|Fantasy\n"
     ]
    }
   ],
   "source": [
    "# rating como critica de calificación \n",
    "\n",
    "# agrupamos por usuario y contamos la cantidad de cada una de las criticas, donde sacamos el id que tenga el valor máximo de estos.\n",
    "numero_criticas = data.groupby('userId')['rating'].count().idxmax()\n",
    "\n",
    "# filtramos para dejar a nuestro usiario con mayor criticas \n",
    "usuario_con_mayor_critica = data[data['userId'] == numero_criticas]\n",
    "\n",
    "# Así agrupamos los datos de nuestro usuario por los generos que ha calificado, sacandole la media respecto al rating que les ha dado el usuario\n",
    "# devolviendonos al mayor promedio de los generos que más le gustan o ha visto\n",
    "gfavorito_user_mayor_critica = usuario_con_mayor_critica.groupby('genres')['rating'].mean().idxmax()\n",
    "\n",
    "print(f'El usuario con mayor cantidad de críticas es el usuario: {numero_criticas}')\n",
    "print(f'El género favorito del usuario es: {gfavorito_user_mayor_critica}')"
   ]
  },
  {
   "cell_type": "markdown",
   "metadata": {},
   "source": [
    "- Cantidad de peliculas por género"
   ]
  },
  {
   "cell_type": "code",
   "execution_count": 132,
   "metadata": {},
   "outputs": [
    {
     "data": {
      "text/plain": [
       "genres\n",
       "Comedy                       7196\n",
       "Drama                        6291\n",
       "Comedy|Romance               3967\n",
       "Comedy|Drama|Romance         3000\n",
       "Comedy|Drama                 2851\n",
       "Drama|Romance                2838\n",
       "Action|Adventure|Sci-Fi      2361\n",
       "Crime|Drama                  2315\n",
       "Action|Crime|Thriller        1554\n",
       "Action|Adventure|Thriller    1455\n",
       "Name: count, dtype: int64"
      ]
     },
     "execution_count": 132,
     "metadata": {},
     "output_type": "execute_result"
    }
   ],
   "source": [
    "peli_per_genre = data['genres'].value_counts()\n",
    "peli_per_genre.head(10)"
   ]
  },
  {
   "cell_type": "markdown",
   "metadata": {},
   "source": [
    "- sí sepearamos los generos ¿cuál sería?"
   ]
  },
  {
   "cell_type": "code",
   "execution_count": 133,
   "metadata": {},
   "outputs": [],
   "source": [
    "data2['generos'] = data['genres'].str.split('|')"
   ]
  },
  {
   "cell_type": "code",
   "execution_count": 134,
   "metadata": {},
   "outputs": [
    {
     "data": {
      "text/plain": [
       "0     [Adventure, Animation, Children, Comedy, Fantasy]\n",
       "1     [Adventure, Animation, Children, Comedy, Fantasy]\n",
       "2     [Adventure, Animation, Children, Comedy, Fantasy]\n",
       "3     [Adventure, Animation, Children, Comedy, Fantasy]\n",
       "4     [Adventure, Animation, Children, Comedy, Fantasy]\n",
       "5     [Adventure, Animation, Children, Comedy, Fantasy]\n",
       "6     [Adventure, Animation, Children, Comedy, Fantasy]\n",
       "7     [Adventure, Animation, Children, Comedy, Fantasy]\n",
       "8     [Adventure, Animation, Children, Comedy, Fantasy]\n",
       "9     [Adventure, Animation, Children, Comedy, Fantasy]\n",
       "10    [Adventure, Animation, Children, Comedy, Fantasy]\n",
       "Name: genres, dtype: object"
      ]
     },
     "execution_count": 134,
     "metadata": {},
     "output_type": "execute_result"
    }
   ],
   "source": [
    "data2.head(11)"
   ]
  },
  {
   "cell_type": "code",
   "execution_count": 135,
   "metadata": {},
   "outputs": [
    {
     "data": {
      "text/plain": [
       "genres\n",
       "[Comedy]                                7196\n",
       "[Drama]                                 6291\n",
       "[Comedy, Romance]                       3967\n",
       "[Comedy, Drama, Romance]                3000\n",
       "[Comedy, Drama]                         2851\n",
       "                                        ... \n",
       "[Crime, Drama, Film-Noir, Romance]         1\n",
       "[Crime, Romance]                           1\n",
       "[Adventure, Documentary, Western]          1\n",
       "[Action, Fantasy, Western]                 1\n",
       "[Action, Animation, Comedy, Fantasy]       1\n",
       "Name: count, Length: 951, dtype: int64"
      ]
     },
     "execution_count": 135,
     "metadata": {},
     "output_type": "execute_result"
    }
   ],
   "source": [
    "data2['generos'].value_counts()"
   ]
  },
  {
   "cell_type": "markdown",
   "metadata": {},
   "source": [
    "- Por lo visto no cambia de esta manera, quiza realizando un par de cosas más podríamos descubrir algo."
   ]
  },
  {
   "cell_type": "code",
   "execution_count": 136,
   "metadata": {},
   "outputs": [
    {
     "data": {
      "text/html": [
       "<div>\n",
       "<style scoped>\n",
       "    .dataframe tbody tr th:only-of-type {\n",
       "        vertical-align: middle;\n",
       "    }\n",
       "\n",
       "    .dataframe tbody tr th {\n",
       "        vertical-align: top;\n",
       "    }\n",
       "\n",
       "    .dataframe thead th {\n",
       "        text-align: right;\n",
       "    }\n",
       "</style>\n",
       "<table border=\"1\" class=\"dataframe\">\n",
       "  <thead>\n",
       "    <tr style=\"text-align: right;\">\n",
       "      <th></th>\n",
       "      <th>movieId</th>\n",
       "      <th>title</th>\n",
       "      <th>genres</th>\n",
       "      <th>userId</th>\n",
       "      <th>rating</th>\n",
       "      <th>timestamp</th>\n",
       "      <th>year</th>\n",
       "    </tr>\n",
       "  </thead>\n",
       "  <tbody>\n",
       "    <tr>\n",
       "      <th>0</th>\n",
       "      <td>1</td>\n",
       "      <td>Toy Story (1995)</td>\n",
       "      <td>Adventure|Animation|Children|Comedy|Fantasy</td>\n",
       "      <td>1</td>\n",
       "      <td>4.0</td>\n",
       "      <td>2000-07-30 18:45:03</td>\n",
       "      <td>2000</td>\n",
       "    </tr>\n",
       "    <tr>\n",
       "      <th>1</th>\n",
       "      <td>1</td>\n",
       "      <td>Toy Story (1995)</td>\n",
       "      <td>Adventure|Animation|Children|Comedy|Fantasy</td>\n",
       "      <td>5</td>\n",
       "      <td>4.0</td>\n",
       "      <td>1996-11-08 06:36:02</td>\n",
       "      <td>1996</td>\n",
       "    </tr>\n",
       "    <tr>\n",
       "      <th>2</th>\n",
       "      <td>1</td>\n",
       "      <td>Toy Story (1995)</td>\n",
       "      <td>Adventure|Animation|Children|Comedy|Fantasy</td>\n",
       "      <td>7</td>\n",
       "      <td>4.5</td>\n",
       "      <td>2005-01-25 06:52:26</td>\n",
       "      <td>2005</td>\n",
       "    </tr>\n",
       "    <tr>\n",
       "      <th>3</th>\n",
       "      <td>1</td>\n",
       "      <td>Toy Story (1995)</td>\n",
       "      <td>Adventure|Animation|Children|Comedy|Fantasy</td>\n",
       "      <td>15</td>\n",
       "      <td>2.5</td>\n",
       "      <td>2017-11-13 12:59:30</td>\n",
       "      <td>2017</td>\n",
       "    </tr>\n",
       "    <tr>\n",
       "      <th>4</th>\n",
       "      <td>1</td>\n",
       "      <td>Toy Story (1995)</td>\n",
       "      <td>Adventure|Animation|Children|Comedy|Fantasy</td>\n",
       "      <td>17</td>\n",
       "      <td>4.5</td>\n",
       "      <td>2011-05-18 05:28:03</td>\n",
       "      <td>2011</td>\n",
       "    </tr>\n",
       "  </tbody>\n",
       "</table>\n",
       "</div>"
      ],
      "text/plain": [
       "   movieId             title                                       genres  \\\n",
       "0        1  Toy Story (1995)  Adventure|Animation|Children|Comedy|Fantasy   \n",
       "1        1  Toy Story (1995)  Adventure|Animation|Children|Comedy|Fantasy   \n",
       "2        1  Toy Story (1995)  Adventure|Animation|Children|Comedy|Fantasy   \n",
       "3        1  Toy Story (1995)  Adventure|Animation|Children|Comedy|Fantasy   \n",
       "4        1  Toy Story (1995)  Adventure|Animation|Children|Comedy|Fantasy   \n",
       "\n",
       "   userId  rating           timestamp  year  \n",
       "0       1     4.0 2000-07-30 18:45:03  2000  \n",
       "1       5     4.0 1996-11-08 06:36:02  1996  \n",
       "2       7     4.5 2005-01-25 06:52:26  2005  \n",
       "3      15     2.5 2017-11-13 12:59:30  2017  \n",
       "4      17     4.5 2011-05-18 05:28:03  2011  "
      ]
     },
     "execution_count": 136,
     "metadata": {},
     "output_type": "execute_result"
    }
   ],
   "source": [
    "data.head()"
   ]
  },
  {
   "cell_type": "code",
   "execution_count": 137,
   "metadata": {},
   "outputs": [
    {
     "data": {
      "text/html": [
       "<div>\n",
       "<style scoped>\n",
       "    .dataframe tbody tr th:only-of-type {\n",
       "        vertical-align: middle;\n",
       "    }\n",
       "\n",
       "    .dataframe tbody tr th {\n",
       "        vertical-align: top;\n",
       "    }\n",
       "\n",
       "    .dataframe thead th {\n",
       "        text-align: right;\n",
       "    }\n",
       "</style>\n",
       "<table border=\"1\" class=\"dataframe\">\n",
       "  <thead>\n",
       "    <tr style=\"text-align: right;\">\n",
       "      <th></th>\n",
       "      <th>movieId</th>\n",
       "      <th>title</th>\n",
       "      <th>genres</th>\n",
       "      <th>userId</th>\n",
       "      <th>rating</th>\n",
       "      <th>timestamp</th>\n",
       "      <th>year</th>\n",
       "    </tr>\n",
       "  </thead>\n",
       "  <tbody>\n",
       "    <tr>\n",
       "      <th>50418</th>\n",
       "      <td>2991</td>\n",
       "      <td>Live and Let Die (1973)</td>\n",
       "      <td>Action|Adventure|Thriller</td>\n",
       "      <td>382</td>\n",
       "      <td>3.5</td>\n",
       "      <td>2018-01-05 17:34:39</td>\n",
       "      <td>2018</td>\n",
       "    </tr>\n",
       "    <tr>\n",
       "      <th>67981</th>\n",
       "      <td>5618</td>\n",
       "      <td>Spirited Away (Sen to Chihiro no kamikakushi) ...</td>\n",
       "      <td>Adventure|Animation|Fantasy</td>\n",
       "      <td>98</td>\n",
       "      <td>4.0</td>\n",
       "      <td>2018-07-24 18:49:21</td>\n",
       "      <td>2018</td>\n",
       "    </tr>\n",
       "    <tr>\n",
       "      <th>68006</th>\n",
       "      <td>5618</td>\n",
       "      <td>Spirited Away (Sen to Chihiro no kamikakushi) ...</td>\n",
       "      <td>Adventure|Animation|Fantasy</td>\n",
       "      <td>306</td>\n",
       "      <td>3.5</td>\n",
       "      <td>2018-02-11 20:18:03</td>\n",
       "      <td>2018</td>\n",
       "    </tr>\n",
       "    <tr>\n",
       "      <th>68027</th>\n",
       "      <td>5618</td>\n",
       "      <td>Spirited Away (Sen to Chihiro no kamikakushi) ...</td>\n",
       "      <td>Adventure|Animation|Fantasy</td>\n",
       "      <td>459</td>\n",
       "      <td>5.0</td>\n",
       "      <td>2018-03-05 07:06:55</td>\n",
       "      <td>2018</td>\n",
       "    </tr>\n",
       "    <tr>\n",
       "      <th>68043</th>\n",
       "      <td>5618</td>\n",
       "      <td>Spirited Away (Sen to Chihiro no kamikakushi) ...</td>\n",
       "      <td>Adventure|Animation|Fantasy</td>\n",
       "      <td>567</td>\n",
       "      <td>2.0</td>\n",
       "      <td>2018-05-02 19:13:48</td>\n",
       "      <td>2018</td>\n",
       "    </tr>\n",
       "    <tr>\n",
       "      <th>68045</th>\n",
       "      <td>5618</td>\n",
       "      <td>Spirited Away (Sen to Chihiro no kamikakushi) ...</td>\n",
       "      <td>Adventure|Animation|Fantasy</td>\n",
       "      <td>596</td>\n",
       "      <td>4.5</td>\n",
       "      <td>2018-08-31 09:43:40</td>\n",
       "      <td>2018</td>\n",
       "    </tr>\n",
       "    <tr>\n",
       "      <th>68048</th>\n",
       "      <td>5618</td>\n",
       "      <td>Spirited Away (Sen to Chihiro no kamikakushi) ...</td>\n",
       "      <td>Adventure|Animation|Fantasy</td>\n",
       "      <td>601</td>\n",
       "      <td>5.0</td>\n",
       "      <td>2018-03-18 18:26:40</td>\n",
       "      <td>2018</td>\n",
       "    </tr>\n",
       "    <tr>\n",
       "      <th>68061</th>\n",
       "      <td>5620</td>\n",
       "      <td>Sweet Home Alabama (2002)</td>\n",
       "      <td>Comedy|Romance</td>\n",
       "      <td>111</td>\n",
       "      <td>3.0</td>\n",
       "      <td>2018-01-16 22:21:04</td>\n",
       "      <td>2018</td>\n",
       "    </tr>\n",
       "    <tr>\n",
       "      <th>68072</th>\n",
       "      <td>5620</td>\n",
       "      <td>Sweet Home Alabama (2002)</td>\n",
       "      <td>Comedy|Romance</td>\n",
       "      <td>382</td>\n",
       "      <td>3.5</td>\n",
       "      <td>2018-01-05 17:21:30</td>\n",
       "      <td>2018</td>\n",
       "    </tr>\n",
       "    <tr>\n",
       "      <th>68083</th>\n",
       "      <td>5621</td>\n",
       "      <td>Tuxedo, The (2002)</td>\n",
       "      <td>Action|Comedy</td>\n",
       "      <td>89</td>\n",
       "      <td>5.0</td>\n",
       "      <td>2018-03-07 07:41:14</td>\n",
       "      <td>2018</td>\n",
       "    </tr>\n",
       "    <tr>\n",
       "      <th>68105</th>\n",
       "      <td>5630</td>\n",
       "      <td>Red Dragon (2002)</td>\n",
       "      <td>Crime|Mystery|Thriller</td>\n",
       "      <td>62</td>\n",
       "      <td>5.0</td>\n",
       "      <td>2018-03-19 20:01:28</td>\n",
       "      <td>2018</td>\n",
       "    </tr>\n",
       "    <tr>\n",
       "      <th>68109</th>\n",
       "      <td>5630</td>\n",
       "      <td>Red Dragon (2002)</td>\n",
       "      <td>Crime|Mystery|Thriller</td>\n",
       "      <td>111</td>\n",
       "      <td>0.5</td>\n",
       "      <td>2018-01-16 22:18:41</td>\n",
       "      <td>2018</td>\n",
       "    </tr>\n",
       "  </tbody>\n",
       "</table>\n",
       "</div>"
      ],
      "text/plain": [
       "       movieId                                              title  \\\n",
       "50418     2991                            Live and Let Die (1973)   \n",
       "67981     5618  Spirited Away (Sen to Chihiro no kamikakushi) ...   \n",
       "68006     5618  Spirited Away (Sen to Chihiro no kamikakushi) ...   \n",
       "68027     5618  Spirited Away (Sen to Chihiro no kamikakushi) ...   \n",
       "68043     5618  Spirited Away (Sen to Chihiro no kamikakushi) ...   \n",
       "68045     5618  Spirited Away (Sen to Chihiro no kamikakushi) ...   \n",
       "68048     5618  Spirited Away (Sen to Chihiro no kamikakushi) ...   \n",
       "68061     5620                          Sweet Home Alabama (2002)   \n",
       "68072     5620                          Sweet Home Alabama (2002)   \n",
       "68083     5621                                 Tuxedo, The (2002)   \n",
       "68105     5630                                  Red Dragon (2002)   \n",
       "68109     5630                                  Red Dragon (2002)   \n",
       "\n",
       "                            genres  userId  rating           timestamp  year  \n",
       "50418    Action|Adventure|Thriller     382     3.5 2018-01-05 17:34:39  2018  \n",
       "67981  Adventure|Animation|Fantasy      98     4.0 2018-07-24 18:49:21  2018  \n",
       "68006  Adventure|Animation|Fantasy     306     3.5 2018-02-11 20:18:03  2018  \n",
       "68027  Adventure|Animation|Fantasy     459     5.0 2018-03-05 07:06:55  2018  \n",
       "68043  Adventure|Animation|Fantasy     567     2.0 2018-05-02 19:13:48  2018  \n",
       "68045  Adventure|Animation|Fantasy     596     4.5 2018-08-31 09:43:40  2018  \n",
       "68048  Adventure|Animation|Fantasy     601     5.0 2018-03-18 18:26:40  2018  \n",
       "68061               Comedy|Romance     111     3.0 2018-01-16 22:21:04  2018  \n",
       "68072               Comedy|Romance     382     3.5 2018-01-05 17:21:30  2018  \n",
       "68083                Action|Comedy      89     5.0 2018-03-07 07:41:14  2018  \n",
       "68105       Crime|Mystery|Thriller      62     5.0 2018-03-19 20:01:28  2018  \n",
       "68109       Crime|Mystery|Thriller     111     0.5 2018-01-16 22:18:41  2018  "
      ]
     },
     "execution_count": 137,
     "metadata": {},
     "output_type": "execute_result"
    }
   ],
   "source": [
    "data_2 = data.sort_values(by=\"year\",ascending=False)\n",
    "data_2.head(12)"
   ]
  },
  {
   "cell_type": "markdown",
   "metadata": {},
   "source": [
    "- ¿Cuáles serían las peliículas del año más reciente que menos calificación tuvieron?\n",
    "Parece ser que el último año es el 2018."
   ]
  },
  {
   "cell_type": "code",
   "execution_count": 138,
   "metadata": {},
   "outputs": [
    {
     "data": {
      "text/html": [
       "<div>\n",
       "<style scoped>\n",
       "    .dataframe tbody tr th:only-of-type {\n",
       "        vertical-align: middle;\n",
       "    }\n",
       "\n",
       "    .dataframe tbody tr th {\n",
       "        vertical-align: top;\n",
       "    }\n",
       "\n",
       "    .dataframe thead th {\n",
       "        text-align: right;\n",
       "    }\n",
       "</style>\n",
       "<table border=\"1\" class=\"dataframe\">\n",
       "  <thead>\n",
       "    <tr style=\"text-align: right;\">\n",
       "      <th></th>\n",
       "      <th>movieId</th>\n",
       "      <th>title</th>\n",
       "      <th>genres</th>\n",
       "      <th>userId</th>\n",
       "      <th>rating</th>\n",
       "      <th>timestamp</th>\n",
       "      <th>year</th>\n",
       "    </tr>\n",
       "  </thead>\n",
       "  <tbody>\n",
       "    <tr>\n",
       "      <th>30</th>\n",
       "      <td>1</td>\n",
       "      <td>Toy Story (1995)</td>\n",
       "      <td>Adventure|Animation|Children|Comedy|Fantasy</td>\n",
       "      <td>89</td>\n",
       "      <td>3.0</td>\n",
       "      <td>2018-03-07 07:38:34</td>\n",
       "      <td>2018</td>\n",
       "    </tr>\n",
       "    <tr>\n",
       "      <th>35</th>\n",
       "      <td>1</td>\n",
       "      <td>Toy Story (1995)</td>\n",
       "      <td>Adventure|Animation|Children|Comedy|Fantasy</td>\n",
       "      <td>98</td>\n",
       "      <td>4.5</td>\n",
       "      <td>2018-07-24 18:44:09</td>\n",
       "      <td>2018</td>\n",
       "    </tr>\n",
       "    <tr>\n",
       "      <th>52</th>\n",
       "      <td>1</td>\n",
       "      <td>Toy Story (1995)</td>\n",
       "      <td>Adventure|Animation|Children|Comedy|Fantasy</td>\n",
       "      <td>153</td>\n",
       "      <td>2.0</td>\n",
       "      <td>2018-05-05 19:30:42</td>\n",
       "      <td>2018</td>\n",
       "    </tr>\n",
       "    <tr>\n",
       "      <th>84</th>\n",
       "      <td>1</td>\n",
       "      <td>Toy Story (1995)</td>\n",
       "      <td>Adventure|Animation|Children|Comedy|Fantasy</td>\n",
       "      <td>233</td>\n",
       "      <td>3.0</td>\n",
       "      <td>2018-04-26 22:20:49</td>\n",
       "      <td>2018</td>\n",
       "    </tr>\n",
       "    <tr>\n",
       "      <th>137</th>\n",
       "      <td>1</td>\n",
       "      <td>Toy Story (1995)</td>\n",
       "      <td>Adventure|Animation|Children|Comedy|Fantasy</td>\n",
       "      <td>382</td>\n",
       "      <td>4.5</td>\n",
       "      <td>2018-01-05 14:30:28</td>\n",
       "      <td>2018</td>\n",
       "    </tr>\n",
       "    <tr>\n",
       "      <th>...</th>\n",
       "      <td>...</td>\n",
       "      <td>...</td>\n",
       "      <td>...</td>\n",
       "      <td>...</td>\n",
       "      <td>...</td>\n",
       "      <td>...</td>\n",
       "      <td>...</td>\n",
       "    </tr>\n",
       "    <tr>\n",
       "      <th>100831</th>\n",
       "      <td>193581</td>\n",
       "      <td>Black Butler: Book of the Atlantic (2017)</td>\n",
       "      <td>Action|Animation|Comedy|Fantasy</td>\n",
       "      <td>184</td>\n",
       "      <td>4.0</td>\n",
       "      <td>2018-09-16 14:44:42</td>\n",
       "      <td>2018</td>\n",
       "    </tr>\n",
       "    <tr>\n",
       "      <th>100832</th>\n",
       "      <td>193583</td>\n",
       "      <td>No Game No Life: Zero (2017)</td>\n",
       "      <td>Animation|Comedy|Fantasy</td>\n",
       "      <td>184</td>\n",
       "      <td>3.5</td>\n",
       "      <td>2018-09-16 14:52:25</td>\n",
       "      <td>2018</td>\n",
       "    </tr>\n",
       "    <tr>\n",
       "      <th>100833</th>\n",
       "      <td>193585</td>\n",
       "      <td>Flint (2017)</td>\n",
       "      <td>Drama</td>\n",
       "      <td>184</td>\n",
       "      <td>3.5</td>\n",
       "      <td>2018-09-16 14:56:45</td>\n",
       "      <td>2018</td>\n",
       "    </tr>\n",
       "    <tr>\n",
       "      <th>100834</th>\n",
       "      <td>193587</td>\n",
       "      <td>Bungo Stray Dogs: Dead Apple (2018)</td>\n",
       "      <td>Action|Animation</td>\n",
       "      <td>184</td>\n",
       "      <td>3.5</td>\n",
       "      <td>2018-09-16 15:00:21</td>\n",
       "      <td>2018</td>\n",
       "    </tr>\n",
       "    <tr>\n",
       "      <th>100835</th>\n",
       "      <td>193609</td>\n",
       "      <td>Andrew Dice Clay: Dice Rules (1991)</td>\n",
       "      <td>Comedy</td>\n",
       "      <td>331</td>\n",
       "      <td>4.0</td>\n",
       "      <td>2018-09-17 04:13:26</td>\n",
       "      <td>2018</td>\n",
       "    </tr>\n",
       "  </tbody>\n",
       "</table>\n",
       "<p>6418 rows × 7 columns</p>\n",
       "</div>"
      ],
      "text/plain": [
       "        movieId                                      title  \\\n",
       "30            1                           Toy Story (1995)   \n",
       "35            1                           Toy Story (1995)   \n",
       "52            1                           Toy Story (1995)   \n",
       "84            1                           Toy Story (1995)   \n",
       "137           1                           Toy Story (1995)   \n",
       "...         ...                                        ...   \n",
       "100831   193581  Black Butler: Book of the Atlantic (2017)   \n",
       "100832   193583               No Game No Life: Zero (2017)   \n",
       "100833   193585                               Flint (2017)   \n",
       "100834   193587        Bungo Stray Dogs: Dead Apple (2018)   \n",
       "100835   193609        Andrew Dice Clay: Dice Rules (1991)   \n",
       "\n",
       "                                             genres  userId  rating  \\\n",
       "30      Adventure|Animation|Children|Comedy|Fantasy      89     3.0   \n",
       "35      Adventure|Animation|Children|Comedy|Fantasy      98     4.5   \n",
       "52      Adventure|Animation|Children|Comedy|Fantasy     153     2.0   \n",
       "84      Adventure|Animation|Children|Comedy|Fantasy     233     3.0   \n",
       "137     Adventure|Animation|Children|Comedy|Fantasy     382     4.5   \n",
       "...                                             ...     ...     ...   \n",
       "100831              Action|Animation|Comedy|Fantasy     184     4.0   \n",
       "100832                     Animation|Comedy|Fantasy     184     3.5   \n",
       "100833                                        Drama     184     3.5   \n",
       "100834                             Action|Animation     184     3.5   \n",
       "100835                                       Comedy     331     4.0   \n",
       "\n",
       "                 timestamp  year  \n",
       "30     2018-03-07 07:38:34  2018  \n",
       "35     2018-07-24 18:44:09  2018  \n",
       "52     2018-05-05 19:30:42  2018  \n",
       "84     2018-04-26 22:20:49  2018  \n",
       "137    2018-01-05 14:30:28  2018  \n",
       "...                    ...   ...  \n",
       "100831 2018-09-16 14:44:42  2018  \n",
       "100832 2018-09-16 14:52:25  2018  \n",
       "100833 2018-09-16 14:56:45  2018  \n",
       "100834 2018-09-16 15:00:21  2018  \n",
       "100835 2018-09-17 04:13:26  2018  \n",
       "\n",
       "[6418 rows x 7 columns]"
      ]
     },
     "execution_count": 138,
     "metadata": {},
     "output_type": "execute_result"
    }
   ],
   "source": [
    "last_year = data[data['year'] >= 2018]\n",
    "last_year"
   ]
  },
  {
   "cell_type": "code",
   "execution_count": 139,
   "metadata": {},
   "outputs": [
    {
     "data": {
      "text/plain": [
       "title                                                    genres                               timestamp          \n",
       "Boudu Saved From Drowning (Boudu sauvé des eaux) (1932)  Comedy                               2018-05-02 19:40:50    0.5\n",
       "Silence of the Lambs, The (1991)                         Crime|Horror|Thriller                2018-01-16 22:11:47    0.5\n",
       "Jack and Jill (2011)                                     Comedy                               2018-05-02 19:38:51    0.5\n",
       "Tooth Fairy 2 (2012)                                     Children|Comedy                      2018-05-02 19:36:25    0.5\n",
       "Jennifer's Body (2009)                                   Comedy|Horror|Sci-Fi|Thriller        2018-01-17 01:31:38    0.5\n",
       "Jesus Christ Vampire Hunter (2001)                       Action|Comedy|Horror|Musical         2018-02-21 01:13:16    0.5\n",
       "Tomb Raider (2018)                                       Action|Adventure|Fantasy             2018-05-05 20:44:11    0.5\n",
       "To Be or Not to Be (1942)                                Comedy|Drama|War                     2018-03-07 07:38:57    0.5\n",
       "Journey 2: The Mysterious Island (2012)                  Action|Adventure|Comedy|Sci-Fi|IMAX  2018-05-02 19:36:33    0.5\n",
       "Journey to the Center of the Earth (2008)                Action|Adventure|Sci-Fi              2018-05-02 19:36:35    0.5\n",
       "Police Academy: Mission to Moscow (1994)                 Comedy|Crime                         2018-01-05 14:41:32    0.5\n",
       "Police Academy 6: City Under Siege (1989)                Comedy|Crime                         2018-02-21 20:18:02    0.5\n",
       "Clockwork Orange, A (1971)                               Crime|Drama|Sci-Fi|Thriller          2018-04-11 17:39:53    0.5\n",
       "Police Academy (1984)                                    Comedy|Crime                         2018-05-05 20:37:21    0.5\n",
       "Skin I Live In, The (La piel que habito) (2011)          Drama                                2018-02-09 17:34:58    0.5\n",
       "Clash of the Titans (2010)                               Action|Adventure|Drama|Fantasy       2018-05-02 19:37:34    0.5\n",
       "Amazing Spider-Man, The (2012)                           Action|Adventure|Sci-Fi|IMAX         2018-05-05 20:20:56    0.5\n",
       "Play Time (a.k.a. Playtime) (1967)                       Comedy                               2018-05-02 19:37:59    0.5\n",
       "The Star Wars Holiday Special (1978)                     Adventure|Children|Comedy|Sci-Fi     2018-09-08 04:28:19    0.5\n",
       "Pirates of the Caribbean: On Stranger Tides (2011)       Action|Adventure|Fantasy|IMAX        2018-05-05 20:37:08    0.5\n",
       "Name: rating, dtype: float64"
      ]
     },
     "execution_count": 139,
     "metadata": {},
     "output_type": "execute_result"
    }
   ],
   "source": [
    "# Queremos saber los títulos de las películas, sin embargo aprovechamos para saber su género de una vez y la fecha \"exacta\"\n",
    "pelis_menor_rank = last_year.groupby([\"title\", \"genres\", \"timestamp\"])['rating'].mean()\n",
    "\n",
    "pi = pelis_menor_rank.sort_values(ascending=True)\n",
    "pi.head(20)"
   ]
  },
  {
   "cell_type": "code",
   "execution_count": 140,
   "metadata": {},
   "outputs": [
    {
     "data": {
      "text/plain": [
       "array(['movieId', 'title', 'genres', 'userId', 'rating', 'timestamp',\n",
       "       'year'], dtype=object)"
      ]
     },
     "execution_count": 140,
     "metadata": {},
     "output_type": "execute_result"
    }
   ],
   "source": [
    "data.columns.values"
   ]
  },
  {
   "cell_type": "code",
   "execution_count": 141,
   "metadata": {},
   "outputs": [
    {
     "data": {
      "text/plain": [
       "year\n",
       "1996     6040\n",
       "1997     1916\n",
       "1998      507\n",
       "1999     2439\n",
       "2000    10061\n",
       "2001     3922\n",
       "2002     3478\n",
       "2003     4014\n",
       "2004     3279\n",
       "2005     5813\n",
       "2006     4059\n",
       "2007     7114\n",
       "2008     4351\n",
       "2009     4158\n",
       "2010     2301\n",
       "2011     1690\n",
       "2012     4656\n",
       "2013     1664\n",
       "2014     1439\n",
       "2015     6616\n",
       "2016     6703\n",
       "2017     8198\n",
       "2018     6418\n",
       "Name: title, dtype: int64"
      ]
     },
     "execution_count": 141,
     "metadata": {},
     "output_type": "execute_result"
    }
   ],
   "source": [
    "# Cantidad de películas por año\n",
    "cantidad_movies_pyear = data.groupby(\"year\")[\"title\"].count()\n",
    "cantidad_movies_pyear\n"
   ]
  },
  {
   "cell_type": "code",
   "execution_count": 142,
   "metadata": {},
   "outputs": [
    {
     "data": {
      "text/html": [
       "<div>\n",
       "<style scoped>\n",
       "    .dataframe tbody tr th:only-of-type {\n",
       "        vertical-align: middle;\n",
       "    }\n",
       "\n",
       "    .dataframe tbody tr th {\n",
       "        vertical-align: top;\n",
       "    }\n",
       "\n",
       "    .dataframe thead th {\n",
       "        text-align: right;\n",
       "    }\n",
       "</style>\n",
       "<table border=\"1\" class=\"dataframe\">\n",
       "  <thead>\n",
       "    <tr style=\"text-align: right;\">\n",
       "      <th></th>\n",
       "      <th>movieId</th>\n",
       "      <th>title</th>\n",
       "      <th>genres</th>\n",
       "      <th>userId</th>\n",
       "      <th>rating</th>\n",
       "      <th>timestamp</th>\n",
       "      <th>year</th>\n",
       "    </tr>\n",
       "  </thead>\n",
       "  <tbody>\n",
       "    <tr>\n",
       "      <th>97886</th>\n",
       "      <td>117867</td>\n",
       "      <td>'71 (2014)</td>\n",
       "      <td>Action|Drama|Thriller|War</td>\n",
       "      <td>610</td>\n",
       "      <td>4.0</td>\n",
       "      <td>2017-05-03 22:18:01</td>\n",
       "      <td>2017</td>\n",
       "    </tr>\n",
       "    <tr>\n",
       "      <th>94989</th>\n",
       "      <td>97757</td>\n",
       "      <td>'Hellboy': The Seeds of Creation (2004)</td>\n",
       "      <td>Action|Adventure|Comedy|Documentary|Fantasy</td>\n",
       "      <td>332</td>\n",
       "      <td>4.0</td>\n",
       "      <td>2012-11-11 21:58:58</td>\n",
       "      <td>2012</td>\n",
       "    </tr>\n",
       "    <tr>\n",
       "      <th>78147</th>\n",
       "      <td>26564</td>\n",
       "      <td>'Round Midnight (1986)</td>\n",
       "      <td>Drama|Musical</td>\n",
       "      <td>332</td>\n",
       "      <td>3.5</td>\n",
       "      <td>2012-11-11 22:00:53</td>\n",
       "      <td>2012</td>\n",
       "    </tr>\n",
       "    <tr>\n",
       "      <th>78536</th>\n",
       "      <td>27751</td>\n",
       "      <td>'Salem's Lot (2004)</td>\n",
       "      <td>Drama|Horror|Mystery|Thriller</td>\n",
       "      <td>345</td>\n",
       "      <td>5.0</td>\n",
       "      <td>2012-07-20 23:33:19</td>\n",
       "      <td>2012</td>\n",
       "    </tr>\n",
       "    <tr>\n",
       "      <th>18828</th>\n",
       "      <td>779</td>\n",
       "      <td>'Til There Was You (1997)</td>\n",
       "      <td>Drama|Romance</td>\n",
       "      <td>113</td>\n",
       "      <td>3.0</td>\n",
       "      <td>2001-01-21 04:39:48</td>\n",
       "      <td>2001</td>\n",
       "    </tr>\n",
       "    <tr>\n",
       "      <th>...</th>\n",
       "      <td>...</td>\n",
       "      <td>...</td>\n",
       "      <td>...</td>\n",
       "      <td>...</td>\n",
       "      <td>...</td>\n",
       "      <td>...</td>\n",
       "      <td>...</td>\n",
       "    </tr>\n",
       "    <tr>\n",
       "      <th>44210</th>\n",
       "      <td>2478</td>\n",
       "      <td>¡Three Amigos! (1986)</td>\n",
       "      <td>Comedy|Western</td>\n",
       "      <td>421</td>\n",
       "      <td>3.0</td>\n",
       "      <td>2011-07-24 07:54:37</td>\n",
       "      <td>2011</td>\n",
       "    </tr>\n",
       "    <tr>\n",
       "      <th>44198</th>\n",
       "      <td>2478</td>\n",
       "      <td>¡Three Amigos! (1986)</td>\n",
       "      <td>Comedy|Western</td>\n",
       "      <td>88</td>\n",
       "      <td>3.5</td>\n",
       "      <td>2012-03-10 22:57:16</td>\n",
       "      <td>2012</td>\n",
       "    </tr>\n",
       "    <tr>\n",
       "      <th>44205</th>\n",
       "      <td>2478</td>\n",
       "      <td>¡Three Amigos! (1986)</td>\n",
       "      <td>Comedy|Western</td>\n",
       "      <td>282</td>\n",
       "      <td>4.0</td>\n",
       "      <td>2013-09-06 19:52:53</td>\n",
       "      <td>2013</td>\n",
       "    </tr>\n",
       "    <tr>\n",
       "      <th>44199</th>\n",
       "      <td>2478</td>\n",
       "      <td>¡Three Amigos! (1986)</td>\n",
       "      <td>Comedy|Western</td>\n",
       "      <td>141</td>\n",
       "      <td>3.5</td>\n",
       "      <td>2017-12-13 02:31:29</td>\n",
       "      <td>2017</td>\n",
       "    </tr>\n",
       "    <tr>\n",
       "      <th>67810</th>\n",
       "      <td>5560</td>\n",
       "      <td>À nous la liberté (Freedom for Us) (1931)</td>\n",
       "      <td>Comedy|Musical</td>\n",
       "      <td>527</td>\n",
       "      <td>1.0</td>\n",
       "      <td>2002-09-28 00:39:41</td>\n",
       "      <td>2002</td>\n",
       "    </tr>\n",
       "  </tbody>\n",
       "</table>\n",
       "<p>41291 rows × 7 columns</p>\n",
       "</div>"
      ],
      "text/plain": [
       "       movieId                                      title  \\\n",
       "97886   117867                                 '71 (2014)   \n",
       "94989    97757    'Hellboy': The Seeds of Creation (2004)   \n",
       "78147    26564                     'Round Midnight (1986)   \n",
       "78536    27751                        'Salem's Lot (2004)   \n",
       "18828      779                  'Til There Was You (1997)   \n",
       "...        ...                                        ...   \n",
       "44210     2478                      ¡Three Amigos! (1986)   \n",
       "44198     2478                      ¡Three Amigos! (1986)   \n",
       "44205     2478                      ¡Three Amigos! (1986)   \n",
       "44199     2478                      ¡Three Amigos! (1986)   \n",
       "67810     5560  À nous la liberté (Freedom for Us) (1931)   \n",
       "\n",
       "                                            genres  userId  rating  \\\n",
       "97886                    Action|Drama|Thriller|War     610     4.0   \n",
       "94989  Action|Adventure|Comedy|Documentary|Fantasy     332     4.0   \n",
       "78147                                Drama|Musical     332     3.5   \n",
       "78536                Drama|Horror|Mystery|Thriller     345     5.0   \n",
       "18828                                Drama|Romance     113     3.0   \n",
       "...                                            ...     ...     ...   \n",
       "44210                               Comedy|Western     421     3.0   \n",
       "44198                               Comedy|Western      88     3.5   \n",
       "44205                               Comedy|Western     282     4.0   \n",
       "44199                               Comedy|Western     141     3.5   \n",
       "67810                               Comedy|Musical     527     1.0   \n",
       "\n",
       "                timestamp  year  \n",
       "97886 2017-05-03 22:18:01  2017  \n",
       "94989 2012-11-11 21:58:58  2012  \n",
       "78147 2012-11-11 22:00:53  2012  \n",
       "78536 2012-07-20 23:33:19  2012  \n",
       "18828 2001-01-21 04:39:48  2001  \n",
       "...                   ...   ...  \n",
       "44210 2011-07-24 07:54:37  2011  \n",
       "44198 2012-03-10 22:57:16  2012  \n",
       "44205 2013-09-06 19:52:53  2013  \n",
       "44199 2017-12-13 02:31:29  2017  \n",
       "67810 2002-09-28 00:39:41  2002  \n",
       "\n",
       "[41291 rows x 7 columns]"
      ]
     },
     "execution_count": 142,
     "metadata": {},
     "output_type": "execute_result"
    }
   ],
   "source": [
    "# ¿Cuáles son las películas con más antiguedad?\n",
    "old_year_movies = data.groupby([\"title\", \"year\"])[\"year\"].idxmin()\n",
    "\n",
    "old_movies = data.loc[old_year_movies]\n",
    "\n",
    "old_movies\n"
   ]
  },
  {
   "cell_type": "code",
   "execution_count": 143,
   "metadata": {},
   "outputs": [
    {
     "data": {
      "text/html": [
       "<div>\n",
       "<style scoped>\n",
       "    .dataframe tbody tr th:only-of-type {\n",
       "        vertical-align: middle;\n",
       "    }\n",
       "\n",
       "    .dataframe tbody tr th {\n",
       "        vertical-align: top;\n",
       "    }\n",
       "\n",
       "    .dataframe thead th {\n",
       "        text-align: right;\n",
       "    }\n",
       "</style>\n",
       "<table border=\"1\" class=\"dataframe\">\n",
       "  <thead>\n",
       "    <tr style=\"text-align: right;\">\n",
       "      <th></th>\n",
       "      <th>movieId</th>\n",
       "      <th>title</th>\n",
       "      <th>genres</th>\n",
       "      <th>userId</th>\n",
       "      <th>rating</th>\n",
       "      <th>timestamp</th>\n",
       "      <th>year</th>\n",
       "    </tr>\n",
       "  </thead>\n",
       "  <tbody>\n",
       "    <tr>\n",
       "      <th>6534</th>\n",
       "      <td>243</td>\n",
       "      <td>Gordy (1995)</td>\n",
       "      <td>Children|Comedy|Fantasy</td>\n",
       "      <td>6</td>\n",
       "      <td>3.0</td>\n",
       "      <td>1996-10-17 12:33:08</td>\n",
       "      <td>1996</td>\n",
       "    </tr>\n",
       "    <tr>\n",
       "      <th>17253</th>\n",
       "      <td>619</td>\n",
       "      <td>Ed (1996)</td>\n",
       "      <td>Comedy</td>\n",
       "      <td>544</td>\n",
       "      <td>5.0</td>\n",
       "      <td>1996-12-15 22:26:16</td>\n",
       "      <td>1996</td>\n",
       "    </tr>\n",
       "    <tr>\n",
       "      <th>19338</th>\n",
       "      <td>795</td>\n",
       "      <td>Somebody to Love (1994)</td>\n",
       "      <td>Drama</td>\n",
       "      <td>6</td>\n",
       "      <td>3.0</td>\n",
       "      <td>1996-10-17 12:48:26</td>\n",
       "      <td>1996</td>\n",
       "    </tr>\n",
       "    <tr>\n",
       "      <th>17149</th>\n",
       "      <td>610</td>\n",
       "      <td>Heavy Metal (1981)</td>\n",
       "      <td>Action|Adventure|Animation|Horror|Sci-Fi</td>\n",
       "      <td>40</td>\n",
       "      <td>4.0</td>\n",
       "      <td>1996-05-14 07:40:22</td>\n",
       "      <td>1996</td>\n",
       "    </tr>\n",
       "    <tr>\n",
       "      <th>5521</th>\n",
       "      <td>195</td>\n",
       "      <td>Something to Talk About (1995)</td>\n",
       "      <td>Comedy|Drama|Romance</td>\n",
       "      <td>6</td>\n",
       "      <td>4.0</td>\n",
       "      <td>1996-10-17 12:14:15</td>\n",
       "      <td>1996</td>\n",
       "    </tr>\n",
       "    <tr>\n",
       "      <th>...</th>\n",
       "      <td>...</td>\n",
       "      <td>...</td>\n",
       "      <td>...</td>\n",
       "      <td>...</td>\n",
       "      <td>...</td>\n",
       "      <td>...</td>\n",
       "      <td>...</td>\n",
       "    </tr>\n",
       "    <tr>\n",
       "      <th>3068</th>\n",
       "      <td>92</td>\n",
       "      <td>Mary Reilly (1996)</td>\n",
       "      <td>Drama|Horror|Thriller</td>\n",
       "      <td>6</td>\n",
       "      <td>4.0</td>\n",
       "      <td>1996-10-17 12:30:54</td>\n",
       "      <td>1996</td>\n",
       "    </tr>\n",
       "    <tr>\n",
       "      <th>19668</th>\n",
       "      <td>838</td>\n",
       "      <td>Emma (1996)</td>\n",
       "      <td>Comedy|Drama|Romance</td>\n",
       "      <td>6</td>\n",
       "      <td>4.0</td>\n",
       "      <td>1996-10-17 12:31:54</td>\n",
       "      <td>1996</td>\n",
       "    </tr>\n",
       "    <tr>\n",
       "      <th>19394</th>\n",
       "      <td>801</td>\n",
       "      <td>Harriet the Spy (1996)</td>\n",
       "      <td>Children|Comedy</td>\n",
       "      <td>6</td>\n",
       "      <td>3.0</td>\n",
       "      <td>1996-10-17 12:43:14</td>\n",
       "      <td>1996</td>\n",
       "    </tr>\n",
       "    <tr>\n",
       "      <th>21743</th>\n",
       "      <td>1013</td>\n",
       "      <td>Parent Trap, The (1961)</td>\n",
       "      <td>Children|Comedy|Romance</td>\n",
       "      <td>385</td>\n",
       "      <td>3.0</td>\n",
       "      <td>1996-09-16 16:57:42</td>\n",
       "      <td>1996</td>\n",
       "    </tr>\n",
       "    <tr>\n",
       "      <th>13326</th>\n",
       "      <td>481</td>\n",
       "      <td>Kalifornia (1993)</td>\n",
       "      <td>Drama|Thriller</td>\n",
       "      <td>109</td>\n",
       "      <td>3.0</td>\n",
       "      <td>1996-08-27 01:37:18</td>\n",
       "      <td>1996</td>\n",
       "    </tr>\n",
       "  </tbody>\n",
       "</table>\n",
       "<p>100 rows × 7 columns</p>\n",
       "</div>"
      ],
      "text/plain": [
       "       movieId                           title  \\\n",
       "6534       243                    Gordy (1995)   \n",
       "17253      619                       Ed (1996)   \n",
       "19338      795         Somebody to Love (1994)   \n",
       "17149      610              Heavy Metal (1981)   \n",
       "5521       195  Something to Talk About (1995)   \n",
       "...        ...                             ...   \n",
       "3068        92              Mary Reilly (1996)   \n",
       "19668      838                     Emma (1996)   \n",
       "19394      801          Harriet the Spy (1996)   \n",
       "21743     1013         Parent Trap, The (1961)   \n",
       "13326      481               Kalifornia (1993)   \n",
       "\n",
       "                                         genres  userId  rating  \\\n",
       "6534                    Children|Comedy|Fantasy       6     3.0   \n",
       "17253                                    Comedy     544     5.0   \n",
       "19338                                     Drama       6     3.0   \n",
       "17149  Action|Adventure|Animation|Horror|Sci-Fi      40     4.0   \n",
       "5521                       Comedy|Drama|Romance       6     4.0   \n",
       "...                                         ...     ...     ...   \n",
       "3068                      Drama|Horror|Thriller       6     4.0   \n",
       "19668                      Comedy|Drama|Romance       6     4.0   \n",
       "19394                           Children|Comedy       6     3.0   \n",
       "21743                   Children|Comedy|Romance     385     3.0   \n",
       "13326                            Drama|Thriller     109     3.0   \n",
       "\n",
       "                timestamp  year  \n",
       "6534  1996-10-17 12:33:08  1996  \n",
       "17253 1996-12-15 22:26:16  1996  \n",
       "19338 1996-10-17 12:48:26  1996  \n",
       "17149 1996-05-14 07:40:22  1996  \n",
       "5521  1996-10-17 12:14:15  1996  \n",
       "...                   ...   ...  \n",
       "3068  1996-10-17 12:30:54  1996  \n",
       "19668 1996-10-17 12:31:54  1996  \n",
       "19394 1996-10-17 12:43:14  1996  \n",
       "21743 1996-09-16 16:57:42  1996  \n",
       "13326 1996-08-27 01:37:18  1996  \n",
       "\n",
       "[100 rows x 7 columns]"
      ]
     },
     "execution_count": 143,
     "metadata": {},
     "output_type": "execute_result"
    }
   ],
   "source": [
    "x = old_movies.sort_values(by=\"year\",ascending=True)\n",
    "x.head(100)"
   ]
  }
 ],
 "metadata": {
  "kernelspec": {
   "display_name": ".venv",
   "language": "python",
   "name": "python3"
  },
  "language_info": {
   "codemirror_mode": {
    "name": "ipython",
    "version": 3
   },
   "file_extension": ".py",
   "mimetype": "text/x-python",
   "name": "python",
   "nbconvert_exporter": "python",
   "pygments_lexer": "ipython3",
   "version": "3.10.12"
  }
 },
 "nbformat": 4,
 "nbformat_minor": 2
}
