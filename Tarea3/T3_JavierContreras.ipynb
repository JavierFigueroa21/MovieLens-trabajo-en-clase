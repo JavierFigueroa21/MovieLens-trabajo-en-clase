{
 "cells": [
  {
   "cell_type": "code",
   "execution_count": 2,
   "metadata": {},
   "outputs": [
    {
     "name": "stderr",
     "output_type": "stream",
     "text": [
      "/tmp/ipykernel_851/2884498329.py:1: DeprecationWarning: \n",
      "Pyarrow will become a required dependency of pandas in the next major release of pandas (pandas 3.0),\n",
      "(to allow more performant data types, such as the Arrow string type, and better interoperability with other libraries)\n",
      "but was not found to be installed on your system.\n",
      "If this would cause problems for you,\n",
      "please provide us feedback at https://github.com/pandas-dev/pandas/issues/54466\n",
      "        \n",
      "  import pandas as pd\n"
     ]
    }
   ],
   "source": [
    "import pandas as pd\n",
    "import matplotlib.pyplot as pyplot"
   ]
  },
  {
   "cell_type": "code",
   "execution_count": 3,
   "metadata": {},
   "outputs": [
    {
     "data": {
      "text/html": [
       "<div>\n",
       "<style scoped>\n",
       "    .dataframe tbody tr th:only-of-type {\n",
       "        vertical-align: middle;\n",
       "    }\n",
       "\n",
       "    .dataframe tbody tr th {\n",
       "        vertical-align: top;\n",
       "    }\n",
       "\n",
       "    .dataframe thead th {\n",
       "        text-align: right;\n",
       "    }\n",
       "</style>\n",
       "<table border=\"1\" class=\"dataframe\">\n",
       "  <thead>\n",
       "    <tr style=\"text-align: right;\">\n",
       "      <th></th>\n",
       "      <th>movieId</th>\n",
       "      <th>title</th>\n",
       "      <th>genres</th>\n",
       "    </tr>\n",
       "  </thead>\n",
       "  <tbody>\n",
       "    <tr>\n",
       "      <th>0</th>\n",
       "      <td>1</td>\n",
       "      <td>Toy Story (1995)</td>\n",
       "      <td>Adventure|Animation|Children|Comedy|Fantasy</td>\n",
       "    </tr>\n",
       "    <tr>\n",
       "      <th>1</th>\n",
       "      <td>2</td>\n",
       "      <td>Jumanji (1995)</td>\n",
       "      <td>Adventure|Children|Fantasy</td>\n",
       "    </tr>\n",
       "    <tr>\n",
       "      <th>2</th>\n",
       "      <td>3</td>\n",
       "      <td>Grumpier Old Men (1995)</td>\n",
       "      <td>Comedy|Romance</td>\n",
       "    </tr>\n",
       "    <tr>\n",
       "      <th>3</th>\n",
       "      <td>4</td>\n",
       "      <td>Waiting to Exhale (1995)</td>\n",
       "      <td>Comedy|Drama|Romance</td>\n",
       "    </tr>\n",
       "    <tr>\n",
       "      <th>4</th>\n",
       "      <td>5</td>\n",
       "      <td>Father of the Bride Part II (1995)</td>\n",
       "      <td>Comedy</td>\n",
       "    </tr>\n",
       "  </tbody>\n",
       "</table>\n",
       "</div>"
      ],
      "text/plain": [
       "   movieId                               title  \\\n",
       "0        1                    Toy Story (1995)   \n",
       "1        2                      Jumanji (1995)   \n",
       "2        3             Grumpier Old Men (1995)   \n",
       "3        4            Waiting to Exhale (1995)   \n",
       "4        5  Father of the Bride Part II (1995)   \n",
       "\n",
       "                                        genres  \n",
       "0  Adventure|Animation|Children|Comedy|Fantasy  \n",
       "1                   Adventure|Children|Fantasy  \n",
       "2                               Comedy|Romance  \n",
       "3                         Comedy|Drama|Romance  \n",
       "4                                       Comedy  "
      ]
     },
     "execution_count": 3,
     "metadata": {},
     "output_type": "execute_result"
    }
   ],
   "source": [
    "# Leemos el dataset que serán necesarios, en este caso el d emovies y el rating, al menos por ahora\n",
    "df = pd.read_csv(\"../data/movies.csv\")\n",
    "dff = pd.read_csv(\"../data/ratings.csv\")\n",
    "df.head()"
   ]
  },
  {
   "cell_type": "code",
   "execution_count": 4,
   "metadata": {},
   "outputs": [
    {
     "data": {
      "text/html": [
       "<div>\n",
       "<style scoped>\n",
       "    .dataframe tbody tr th:only-of-type {\n",
       "        vertical-align: middle;\n",
       "    }\n",
       "\n",
       "    .dataframe tbody tr th {\n",
       "        vertical-align: top;\n",
       "    }\n",
       "\n",
       "    .dataframe thead th {\n",
       "        text-align: right;\n",
       "    }\n",
       "</style>\n",
       "<table border=\"1\" class=\"dataframe\">\n",
       "  <thead>\n",
       "    <tr style=\"text-align: right;\">\n",
       "      <th></th>\n",
       "      <th>userId</th>\n",
       "      <th>movieId</th>\n",
       "      <th>rating</th>\n",
       "      <th>timestamp</th>\n",
       "    </tr>\n",
       "  </thead>\n",
       "  <tbody>\n",
       "    <tr>\n",
       "      <th>0</th>\n",
       "      <td>1</td>\n",
       "      <td>1</td>\n",
       "      <td>4.0</td>\n",
       "      <td>964982703</td>\n",
       "    </tr>\n",
       "    <tr>\n",
       "      <th>1</th>\n",
       "      <td>1</td>\n",
       "      <td>3</td>\n",
       "      <td>4.0</td>\n",
       "      <td>964981247</td>\n",
       "    </tr>\n",
       "    <tr>\n",
       "      <th>2</th>\n",
       "      <td>1</td>\n",
       "      <td>6</td>\n",
       "      <td>4.0</td>\n",
       "      <td>964982224</td>\n",
       "    </tr>\n",
       "    <tr>\n",
       "      <th>3</th>\n",
       "      <td>1</td>\n",
       "      <td>47</td>\n",
       "      <td>5.0</td>\n",
       "      <td>964983815</td>\n",
       "    </tr>\n",
       "    <tr>\n",
       "      <th>4</th>\n",
       "      <td>1</td>\n",
       "      <td>50</td>\n",
       "      <td>5.0</td>\n",
       "      <td>964982931</td>\n",
       "    </tr>\n",
       "  </tbody>\n",
       "</table>\n",
       "</div>"
      ],
      "text/plain": [
       "   userId  movieId  rating  timestamp\n",
       "0       1        1     4.0  964982703\n",
       "1       1        3     4.0  964981247\n",
       "2       1        6     4.0  964982224\n",
       "3       1       47     5.0  964983815\n",
       "4       1       50     5.0  964982931"
      ]
     },
     "execution_count": 4,
     "metadata": {},
     "output_type": "execute_result"
    }
   ],
   "source": [
    "# Para ver el contenido d emanera rápida, simplemente hacemos el head\n",
    "dff.head()"
   ]
  },
  {
   "cell_type": "markdown",
   "metadata": {},
   "source": [
    "- Revisamos como vienen los datos para saber si es necesario alguna transformación."
   ]
  },
  {
   "cell_type": "code",
   "execution_count": 5,
   "metadata": {},
   "outputs": [
    {
     "data": {
      "text/plain": [
       "movieId     int64\n",
       "title      object\n",
       "genres     object\n",
       "dtype: object"
      ]
     },
     "execution_count": 5,
     "metadata": {},
     "output_type": "execute_result"
    }
   ],
   "source": [
    "df.dtypes"
   ]
  },
  {
   "cell_type": "code",
   "execution_count": 6,
   "metadata": {},
   "outputs": [
    {
     "data": {
      "text/plain": [
       "userId         int64\n",
       "movieId        int64\n",
       "rating       float64\n",
       "timestamp      int64\n",
       "dtype: object"
      ]
     },
     "execution_count": 6,
     "metadata": {},
     "output_type": "execute_result"
    }
   ],
   "source": [
    "dff.dtypes"
   ]
  },
  {
   "cell_type": "markdown",
   "metadata": {},
   "source": [
    "- Considero que el userId debería ser tipo object ya que si se usa en alguna operación puede modificarse, aunque por ahora creo que no es necesario."
   ]
  },
  {
   "cell_type": "markdown",
   "metadata": {},
   "source": [
    "## Preguntas\n",
    "- Cuáles fueron los géneros mejor rankeados en promedio en el año 2005?\n",
    "- Cuál es el top 5 de películas mejor rankeadas en promedio?\n",
    "- cuál es el genero con más reviews?\n",
    "- Cuál es el género por año con mejor rating entre el año 2000 y 2010?\n",
    "- Cuál es el usuario con más ccríticas y cuál es su género favorito?"
   ]
  },
  {
   "cell_type": "markdown",
   "metadata": {},
   "source": [
    "- 1. ¿Cuáles fueron los géneros mejor rankeados en promedio en el año 2005?"
   ]
  },
  {
   "cell_type": "code",
   "execution_count": 7,
   "metadata": {},
   "outputs": [],
   "source": [
    "# Convertir timestamp a formato de fecha\n",
    "dff['timestamp'] = pd.to_datetime(dff['timestamp'], unit='s')"
   ]
  },
  {
   "cell_type": "code",
   "execution_count": 8,
   "metadata": {},
   "outputs": [],
   "source": [
    "# Como quiero filtrar por año lo agrego\n",
    "dff['year'] = dff['timestamp'].dt.year"
   ]
  },
  {
   "cell_type": "code",
   "execution_count": 9,
   "metadata": {},
   "outputs": [
    {
     "data": {
      "text/html": [
       "<div>\n",
       "<style scoped>\n",
       "    .dataframe tbody tr th:only-of-type {\n",
       "        vertical-align: middle;\n",
       "    }\n",
       "\n",
       "    .dataframe tbody tr th {\n",
       "        vertical-align: top;\n",
       "    }\n",
       "\n",
       "    .dataframe thead th {\n",
       "        text-align: right;\n",
       "    }\n",
       "</style>\n",
       "<table border=\"1\" class=\"dataframe\">\n",
       "  <thead>\n",
       "    <tr style=\"text-align: right;\">\n",
       "      <th></th>\n",
       "      <th>userId</th>\n",
       "      <th>movieId</th>\n",
       "      <th>rating</th>\n",
       "      <th>timestamp</th>\n",
       "      <th>year</th>\n",
       "    </tr>\n",
       "  </thead>\n",
       "  <tbody>\n",
       "    <tr>\n",
       "      <th>0</th>\n",
       "      <td>1</td>\n",
       "      <td>1</td>\n",
       "      <td>4.0</td>\n",
       "      <td>2000-07-30 18:45:03</td>\n",
       "      <td>2000</td>\n",
       "    </tr>\n",
       "  </tbody>\n",
       "</table>\n",
       "</div>"
      ],
      "text/plain": [
       "   userId  movieId  rating           timestamp  year\n",
       "0       1        1     4.0 2000-07-30 18:45:03  2000"
      ]
     },
     "execution_count": 9,
     "metadata": {},
     "output_type": "execute_result"
    }
   ],
   "source": [
    "dff.head(1)"
   ]
  },
  {
   "cell_type": "code",
   "execution_count": 10,
   "metadata": {},
   "outputs": [],
   "source": [
    "# Filtramos las filas para el año 2005\n",
    "# pppp = dff.sort_values(by='year', ascending=False)\n",
    "dff_del_2005 = dff[dff['year'] == 2005]\n",
    "AVG_por_genero = dff_del_2005.groupby(df['genres'])['rating'].mean()"
   ]
  },
  {
   "cell_type": "code",
   "execution_count": 11,
   "metadata": {},
   "outputs": [
    {
     "data": {
      "text/plain": [
       "genres\n",
       "Children|Comedy|Romance                  5.000000\n",
       "Action|Adventure|Animation|Horror        5.000000\n",
       "Adventure|Drama|Romance                  5.000000\n",
       "Comedy|Sci-Fi|Thriller                   5.000000\n",
       "Action|Adventure|Horror|Sci-Fi           5.000000\n",
       "Action|Drama|Thriller                    4.666667\n",
       "Action|Drama|Mystery|Romance|Thriller    4.500000\n",
       "Action|Drama|Romance|War                 4.500000\n",
       "Adventure|Drama|War                      4.500000\n",
       "Comedy|Drama|Horror                      4.500000\n",
       "Name: rating, dtype: float64"
      ]
     },
     "execution_count": 11,
     "metadata": {},
     "output_type": "execute_result"
    }
   ],
   "source": [
    "# Ordenamos las salidas para ver cuales son los mas altos\n",
    "p1 = AVG_por_genero.sort_values(ascending=False)\n",
    "p1.head(10)"
   ]
  },
  {
   "cell_type": "markdown",
   "metadata": {},
   "source": [
    "- 2. ¿Cuál es el top 5 de películas mejor rankeadas en promedio?"
   ]
  },
  {
   "cell_type": "markdown",
   "metadata": {},
   "source": [
    "- Para no tener los dos dataframes separados los unire para no tener confusión por mi."
   ]
  },
  {
   "cell_type": "code",
   "execution_count": 12,
   "metadata": {},
   "outputs": [
    {
     "data": {
      "text/html": [
       "<div>\n",
       "<style scoped>\n",
       "    .dataframe tbody tr th:only-of-type {\n",
       "        vertical-align: middle;\n",
       "    }\n",
       "\n",
       "    .dataframe tbody tr th {\n",
       "        vertical-align: top;\n",
       "    }\n",
       "\n",
       "    .dataframe thead th {\n",
       "        text-align: right;\n",
       "    }\n",
       "</style>\n",
       "<table border=\"1\" class=\"dataframe\">\n",
       "  <thead>\n",
       "    <tr style=\"text-align: right;\">\n",
       "      <th></th>\n",
       "      <th>movieId</th>\n",
       "      <th>title</th>\n",
       "      <th>genres</th>\n",
       "      <th>userId</th>\n",
       "      <th>rating</th>\n",
       "      <th>timestamp</th>\n",
       "      <th>year</th>\n",
       "    </tr>\n",
       "  </thead>\n",
       "  <tbody>\n",
       "    <tr>\n",
       "      <th>0</th>\n",
       "      <td>1</td>\n",
       "      <td>Toy Story (1995)</td>\n",
       "      <td>Adventure|Animation|Children|Comedy|Fantasy</td>\n",
       "      <td>1</td>\n",
       "      <td>4.0</td>\n",
       "      <td>2000-07-30 18:45:03</td>\n",
       "      <td>2000</td>\n",
       "    </tr>\n",
       "    <tr>\n",
       "      <th>1</th>\n",
       "      <td>1</td>\n",
       "      <td>Toy Story (1995)</td>\n",
       "      <td>Adventure|Animation|Children|Comedy|Fantasy</td>\n",
       "      <td>5</td>\n",
       "      <td>4.0</td>\n",
       "      <td>1996-11-08 06:36:02</td>\n",
       "      <td>1996</td>\n",
       "    </tr>\n",
       "    <tr>\n",
       "      <th>2</th>\n",
       "      <td>1</td>\n",
       "      <td>Toy Story (1995)</td>\n",
       "      <td>Adventure|Animation|Children|Comedy|Fantasy</td>\n",
       "      <td>7</td>\n",
       "      <td>4.5</td>\n",
       "      <td>2005-01-25 06:52:26</td>\n",
       "      <td>2005</td>\n",
       "    </tr>\n",
       "  </tbody>\n",
       "</table>\n",
       "</div>"
      ],
      "text/plain": [
       "   movieId             title                                       genres  \\\n",
       "0        1  Toy Story (1995)  Adventure|Animation|Children|Comedy|Fantasy   \n",
       "1        1  Toy Story (1995)  Adventure|Animation|Children|Comedy|Fantasy   \n",
       "2        1  Toy Story (1995)  Adventure|Animation|Children|Comedy|Fantasy   \n",
       "\n",
       "   userId  rating           timestamp  year  \n",
       "0       1     4.0 2000-07-30 18:45:03  2000  \n",
       "1       5     4.0 1996-11-08 06:36:02  1996  \n",
       "2       7     4.5 2005-01-25 06:52:26  2005  "
      ]
     },
     "execution_count": 12,
     "metadata": {},
     "output_type": "execute_result"
    }
   ],
   "source": [
    "data = pd.merge(df, dff, on='movieId')\n",
    "data.head(3)"
   ]
  },
  {
   "cell_type": "code",
   "execution_count": 13,
   "metadata": {},
   "outputs": [
    {
     "data": {
      "text/plain": [
       "title                                    year\n",
       "'71 (2014)                               2017    4.0\n",
       "'Hellboy': The Seeds of Creation (2004)  2012    4.0\n",
       "'Round Midnight (1986)                   2012    3.5\n",
       "'Salem's Lot (2004)                      2012    5.0\n",
       "'Til There Was You (1997)                2001    3.0\n",
       "                                         2012    5.0\n",
       "'Tis the Season for Love (2015)          2016    1.5\n",
       "'burbs, The (1989)                       2000    2.6\n",
       "                                         2001    5.0\n",
       "                                         2003    2.0\n",
       "Name: rating, dtype: float64"
      ]
     },
     "execution_count": 13,
     "metadata": {},
     "output_type": "execute_result"
    }
   ],
   "source": [
    "AVG_por_title = data.groupby([\"title\", \"year\"])['rating'].mean()\n",
    "AVG_por_title.head(10)"
   ]
  },
  {
   "cell_type": "code",
   "execution_count": 14,
   "metadata": {},
   "outputs": [
    {
     "data": {
      "text/plain": [
       "title                                                             year\n",
       "Hello, Dolly! (1969)                                              2015    5.0\n",
       "Monty Python's And Now for Something Completely Different (1971)  2015    5.0\n",
       "Farewell My Concubine (Ba wang bie ji) (1993)                     1999    5.0\n",
       "All About Eve (1950)                                              1998    5.0\n",
       "                                                                  1997    5.0\n",
       "Name: rating, dtype: float64"
      ]
     },
     "execution_count": 14,
     "metadata": {},
     "output_type": "execute_result"
    }
   ],
   "source": [
    "# ordenamos de forma descendente\n",
    "p2 = AVG_por_title.sort_values(ascending=False)\n",
    "p2.head(5)"
   ]
  },
  {
   "cell_type": "markdown",
   "metadata": {},
   "source": [
    "- 3. ¿Cuál es el genero con más reviews?"
   ]
  },
  {
   "cell_type": "code",
   "execution_count": 35,
   "metadata": {},
   "outputs": [
    {
     "data": {
      "text/plain": [
       "genres\n",
       "Comedy                                    7196\n",
       "Drama                                     6291\n",
       "Comedy|Romance                            3967\n",
       "Comedy|Drama|Romance                      3000\n",
       "Comedy|Drama                              2851\n",
       "                                          ... \n",
       "Crime|Drama|Film-Noir|Romance                1\n",
       "Crime|Drama|Film-Noir|Romance|Thriller       1\n",
       "Adventure|Fantasy|Musical|Romance            1\n",
       "Crime|Drama|Horror|Mystery                   1\n",
       "Comedy|Romance|Western                       1\n",
       "Name: rating, Length: 951, dtype: int64"
      ]
     },
     "execution_count": 35,
     "metadata": {},
     "output_type": "execute_result"
    }
   ],
   "source": [
    "p3 = data.groupby('genres')['rating'].count()\n",
    "p3 = p3.sort_values(ascending=False)\n",
    "p3"
   ]
  },
  {
   "cell_type": "code",
   "execution_count": 37,
   "metadata": {},
   "outputs": [
    {
     "data": {
      "text/plain": [
       "'Comedy'"
      ]
     },
     "execution_count": 37,
     "metadata": {},
     "output_type": "execute_result"
    }
   ],
   "source": [
    "p3_1 = p3.idxmax()\n",
    "p3_1"
   ]
  },
  {
   "cell_type": "markdown",
   "metadata": {},
   "source": [
    "- 4. ¿Cuál es el género por año con mejor rating entre el año 2000 y 2010?"
   ]
  },
  {
   "cell_type": "code",
   "execution_count": 15,
   "metadata": {},
   "outputs": [],
   "source": [
    "# Filtra los datos para el período de 2000 a 2010\n",
    "entre_years = data[(data['year'] >= 2000) & (data['year'] <= 2010)]"
   ]
  },
  {
   "cell_type": "code",
   "execution_count": 16,
   "metadata": {},
   "outputs": [],
   "source": [
    "#data.count()"
   ]
  },
  {
   "cell_type": "code",
   "execution_count": 17,
   "metadata": {},
   "outputs": [],
   "source": [
    "#entre_year.count()"
   ]
  },
  {
   "cell_type": "code",
   "execution_count": 18,
   "metadata": {},
   "outputs": [
    {
     "data": {
      "text/plain": [
       "year\n",
       "2000               (2000, Animation|Comedy|Drama|Fantasy)\n",
       "2001                         (2001, Action|Drama|Western)\n",
       "2002     (2002, Action|Adventure|Animation|Horror|Sci-Fi)\n",
       "2003     (2003, Action|Adventure|Animation|Drama|Fantasy)\n",
       "2004    (2004, Adventure|Children|Comedy|Fantasy|Musical)\n",
       "2005                   (2005, Adventure|Animation|Comedy)\n",
       "2006                   (2006, Action|Romance|War|Western)\n",
       "2007    (2007, Adventure|Animation|Children|Comedy|Sci...\n",
       "2008    (2008, Adventure|Animation|Children|Comedy|Sci...\n",
       "2009    (2009, Action|Adventure|Mystery|Romance|Thriller)\n",
       "2010                        (2010, Action|Comedy|Musical)\n",
       "Name: rating, dtype: object"
      ]
     },
     "execution_count": 18,
     "metadata": {},
     "output_type": "execute_result"
    }
   ],
   "source": [
    "peli_per_year = entre_years.groupby(['year', 'genres'])['rating'].mean().groupby('year').idxmax()\n",
    "peli_per_year.head(11)\n",
    "p4 = peli_per_year\n",
    "p4"
   ]
  },
  {
   "cell_type": "markdown",
   "metadata": {},
   "source": [
    "- 5. ¿Cuál es el usuario con más críticas y cuál es su género favorito?"
   ]
  },
  {
   "cell_type": "code",
   "execution_count": 33,
   "metadata": {},
   "outputs": [
    {
     "name": "stdout",
     "output_type": "stream",
     "text": [
      "El usuario con mayor cantidad de críticas es el usuario: 414\n",
      "El género favorito del usuario es: Action|Adventure|Animation|Children|Comedy|Fantasy\n"
     ]
    }
   ],
   "source": [
    "# rating como critica de calificación \n",
    "\n",
    "# agrupamos por usuario y contamos la cantidad de cada una de las criticas, donde sacamos el id que tenga el valor máximo de estos.\n",
    "numero_criticas = data.groupby('userId')['rating'].count().idxmax()\n",
    "\n",
    "# filtramos para dejar a nuestro usiario con mayor criticas \n",
    "usuario_con_mayor_critica = data[data['userId'] == numero_criticas]\n",
    "\n",
    "# Así agrupamos los datos de nuestro usuario por los generos que ha calificado, sacandole la media respecto al rating que les ha dado el usuario\n",
    "# devolviendonos al mayor promedio de los generos que más le gustan o ha visto\n",
    "gfavorito_user_mayor_critica = usuario_con_mayor_critica.groupby('genres')['rating'].mean().idxmax()\n",
    "\n",
    "print(f'El usuario con mayor cantidad de críticas es el usuario: {numero_criticas}')\n",
    "print(f'El género favorito del usuario es: {gfavorito_user_mayor_critica}')"
   ]
  },
  {
   "cell_type": "markdown",
   "metadata": {},
   "source": [
    "- Cantidad de peliculas por género"
   ]
  },
  {
   "cell_type": "code",
   "execution_count": 45,
   "metadata": {},
   "outputs": [
    {
     "data": {
      "text/plain": [
       "genres\n",
       "Comedy                              7196\n",
       "Drama                               6291\n",
       "Comedy|Romance                      3967\n",
       "Comedy|Drama|Romance                3000\n",
       "Comedy|Drama                        2851\n",
       "Drama|Romance                       2838\n",
       "Action|Adventure|Sci-Fi             2361\n",
       "Crime|Drama                         2315\n",
       "Action|Crime|Thriller               1554\n",
       "Action|Adventure|Thriller           1455\n",
       "Action|Adventure|Sci-Fi|Thriller    1446\n",
       "Drama|Thriller                      1365\n",
       "Action|Sci-Fi|Thriller              1195\n",
       "Comedy|Crime                        1171\n",
       "Crime|Drama|Thriller                1119\n",
       "Drama|War                           1044\n",
       "Action|Drama|War                    1034\n",
       "Action|Crime|Drama|Thriller         1007\n",
       "Documentary                          891\n",
       "Drama|Mystery|Thriller               712\n",
       "Name: count, dtype: int64"
      ]
     },
     "execution_count": 45,
     "metadata": {},
     "output_type": "execute_result"
    }
   ],
   "source": [
    "peli_per_genre = data['genres'].value_counts()\n",
    "peli_per_genre.head(20)"
   ]
  },
  {
   "cell_type": "markdown",
   "metadata": {},
   "source": [
    "- sí sepearamos los generos ¿cuál sería?"
   ]
  },
  {
   "cell_type": "code",
   "execution_count": 48,
   "metadata": {},
   "outputs": [],
   "source": [
    "data2['generos'] = data['genres'].str.split('|')"
   ]
  },
  {
   "cell_type": "code",
   "execution_count": 50,
   "metadata": {},
   "outputs": [
    {
     "data": {
      "text/plain": [
       "0     [Adventure, Animation, Children, Comedy, Fantasy]\n",
       "1     [Adventure, Animation, Children, Comedy, Fantasy]\n",
       "2     [Adventure, Animation, Children, Comedy, Fantasy]\n",
       "3     [Adventure, Animation, Children, Comedy, Fantasy]\n",
       "4     [Adventure, Animation, Children, Comedy, Fantasy]\n",
       "5     [Adventure, Animation, Children, Comedy, Fantasy]\n",
       "6     [Adventure, Animation, Children, Comedy, Fantasy]\n",
       "7     [Adventure, Animation, Children, Comedy, Fantasy]\n",
       "8     [Adventure, Animation, Children, Comedy, Fantasy]\n",
       "9     [Adventure, Animation, Children, Comedy, Fantasy]\n",
       "10    [Adventure, Animation, Children, Comedy, Fantasy]\n",
       "Name: genres, dtype: object"
      ]
     },
     "execution_count": 50,
     "metadata": {},
     "output_type": "execute_result"
    }
   ],
   "source": [
    "data2.head(11)"
   ]
  },
  {
   "cell_type": "code",
   "execution_count": 57,
   "metadata": {},
   "outputs": [
    {
     "data": {
      "text/plain": [
       "genres\n",
       "[Comedy]                                7196\n",
       "[Drama]                                 6291\n",
       "[Comedy, Romance]                       3967\n",
       "[Comedy, Drama, Romance]                3000\n",
       "[Comedy, Drama]                         2851\n",
       "                                        ... \n",
       "[Crime, Drama, Film-Noir, Romance]         1\n",
       "[Crime, Romance]                           1\n",
       "[Adventure, Documentary, Western]          1\n",
       "[Action, Fantasy, Western]                 1\n",
       "[Action, Animation, Comedy, Fantasy]       1\n",
       "Name: count, Length: 951, dtype: int64"
      ]
     },
     "execution_count": 57,
     "metadata": {},
     "output_type": "execute_result"
    }
   ],
   "source": [
    "data2['generos'].value_counts()"
   ]
  },
  {
   "cell_type": "markdown",
   "metadata": {},
   "source": [
    "- Por lo visto no cambia de esta manera, quiza realizando un par de cosas más podríamos descubrir algo."
   ]
  },
  {
   "cell_type": "code",
   "execution_count": 59,
   "metadata": {},
   "outputs": [
    {
     "data": {
      "text/html": [
       "<div>\n",
       "<style scoped>\n",
       "    .dataframe tbody tr th:only-of-type {\n",
       "        vertical-align: middle;\n",
       "    }\n",
       "\n",
       "    .dataframe tbody tr th {\n",
       "        vertical-align: top;\n",
       "    }\n",
       "\n",
       "    .dataframe thead th {\n",
       "        text-align: right;\n",
       "    }\n",
       "</style>\n",
       "<table border=\"1\" class=\"dataframe\">\n",
       "  <thead>\n",
       "    <tr style=\"text-align: right;\">\n",
       "      <th></th>\n",
       "      <th>movieId</th>\n",
       "      <th>title</th>\n",
       "      <th>genres</th>\n",
       "      <th>userId</th>\n",
       "      <th>rating</th>\n",
       "      <th>timestamp</th>\n",
       "      <th>year</th>\n",
       "    </tr>\n",
       "  </thead>\n",
       "  <tbody>\n",
       "    <tr>\n",
       "      <th>0</th>\n",
       "      <td>1</td>\n",
       "      <td>Toy Story (1995)</td>\n",
       "      <td>Adventure|Animation|Children|Comedy|Fantasy</td>\n",
       "      <td>1</td>\n",
       "      <td>4.0</td>\n",
       "      <td>2000-07-30 18:45:03</td>\n",
       "      <td>2000</td>\n",
       "    </tr>\n",
       "    <tr>\n",
       "      <th>1</th>\n",
       "      <td>1</td>\n",
       "      <td>Toy Story (1995)</td>\n",
       "      <td>Adventure|Animation|Children|Comedy|Fantasy</td>\n",
       "      <td>5</td>\n",
       "      <td>4.0</td>\n",
       "      <td>1996-11-08 06:36:02</td>\n",
       "      <td>1996</td>\n",
       "    </tr>\n",
       "    <tr>\n",
       "      <th>2</th>\n",
       "      <td>1</td>\n",
       "      <td>Toy Story (1995)</td>\n",
       "      <td>Adventure|Animation|Children|Comedy|Fantasy</td>\n",
       "      <td>7</td>\n",
       "      <td>4.5</td>\n",
       "      <td>2005-01-25 06:52:26</td>\n",
       "      <td>2005</td>\n",
       "    </tr>\n",
       "    <tr>\n",
       "      <th>3</th>\n",
       "      <td>1</td>\n",
       "      <td>Toy Story (1995)</td>\n",
       "      <td>Adventure|Animation|Children|Comedy|Fantasy</td>\n",
       "      <td>15</td>\n",
       "      <td>2.5</td>\n",
       "      <td>2017-11-13 12:59:30</td>\n",
       "      <td>2017</td>\n",
       "    </tr>\n",
       "    <tr>\n",
       "      <th>4</th>\n",
       "      <td>1</td>\n",
       "      <td>Toy Story (1995)</td>\n",
       "      <td>Adventure|Animation|Children|Comedy|Fantasy</td>\n",
       "      <td>17</td>\n",
       "      <td>4.5</td>\n",
       "      <td>2011-05-18 05:28:03</td>\n",
       "      <td>2011</td>\n",
       "    </tr>\n",
       "  </tbody>\n",
       "</table>\n",
       "</div>"
      ],
      "text/plain": [
       "   movieId             title                                       genres  \\\n",
       "0        1  Toy Story (1995)  Adventure|Animation|Children|Comedy|Fantasy   \n",
       "1        1  Toy Story (1995)  Adventure|Animation|Children|Comedy|Fantasy   \n",
       "2        1  Toy Story (1995)  Adventure|Animation|Children|Comedy|Fantasy   \n",
       "3        1  Toy Story (1995)  Adventure|Animation|Children|Comedy|Fantasy   \n",
       "4        1  Toy Story (1995)  Adventure|Animation|Children|Comedy|Fantasy   \n",
       "\n",
       "   userId  rating           timestamp  year  \n",
       "0       1     4.0 2000-07-30 18:45:03  2000  \n",
       "1       5     4.0 1996-11-08 06:36:02  1996  \n",
       "2       7     4.5 2005-01-25 06:52:26  2005  \n",
       "3      15     2.5 2017-11-13 12:59:30  2017  \n",
       "4      17     4.5 2011-05-18 05:28:03  2011  "
      ]
     },
     "execution_count": 59,
     "metadata": {},
     "output_type": "execute_result"
    }
   ],
   "source": [
    "data.head()"
   ]
  },
  {
   "cell_type": "code",
   "execution_count": 61,
   "metadata": {},
   "outputs": [
    {
     "data": {
      "text/html": [
       "<div>\n",
       "<style scoped>\n",
       "    .dataframe tbody tr th:only-of-type {\n",
       "        vertical-align: middle;\n",
       "    }\n",
       "\n",
       "    .dataframe tbody tr th {\n",
       "        vertical-align: top;\n",
       "    }\n",
       "\n",
       "    .dataframe thead th {\n",
       "        text-align: right;\n",
       "    }\n",
       "</style>\n",
       "<table border=\"1\" class=\"dataframe\">\n",
       "  <thead>\n",
       "    <tr style=\"text-align: right;\">\n",
       "      <th></th>\n",
       "      <th>movieId</th>\n",
       "      <th>title</th>\n",
       "      <th>genres</th>\n",
       "      <th>userId</th>\n",
       "      <th>rating</th>\n",
       "      <th>timestamp</th>\n",
       "      <th>year</th>\n",
       "    </tr>\n",
       "  </thead>\n",
       "  <tbody>\n",
       "    <tr>\n",
       "      <th>50418</th>\n",
       "      <td>2991</td>\n",
       "      <td>Live and Let Die (1973)</td>\n",
       "      <td>Action|Adventure|Thriller</td>\n",
       "      <td>382</td>\n",
       "      <td>3.5</td>\n",
       "      <td>2018-01-05 17:34:39</td>\n",
       "      <td>2018</td>\n",
       "    </tr>\n",
       "    <tr>\n",
       "      <th>67981</th>\n",
       "      <td>5618</td>\n",
       "      <td>Spirited Away (Sen to Chihiro no kamikakushi) ...</td>\n",
       "      <td>Adventure|Animation|Fantasy</td>\n",
       "      <td>98</td>\n",
       "      <td>4.0</td>\n",
       "      <td>2018-07-24 18:49:21</td>\n",
       "      <td>2018</td>\n",
       "    </tr>\n",
       "    <tr>\n",
       "      <th>68006</th>\n",
       "      <td>5618</td>\n",
       "      <td>Spirited Away (Sen to Chihiro no kamikakushi) ...</td>\n",
       "      <td>Adventure|Animation|Fantasy</td>\n",
       "      <td>306</td>\n",
       "      <td>3.5</td>\n",
       "      <td>2018-02-11 20:18:03</td>\n",
       "      <td>2018</td>\n",
       "    </tr>\n",
       "    <tr>\n",
       "      <th>68027</th>\n",
       "      <td>5618</td>\n",
       "      <td>Spirited Away (Sen to Chihiro no kamikakushi) ...</td>\n",
       "      <td>Adventure|Animation|Fantasy</td>\n",
       "      <td>459</td>\n",
       "      <td>5.0</td>\n",
       "      <td>2018-03-05 07:06:55</td>\n",
       "      <td>2018</td>\n",
       "    </tr>\n",
       "    <tr>\n",
       "      <th>68043</th>\n",
       "      <td>5618</td>\n",
       "      <td>Spirited Away (Sen to Chihiro no kamikakushi) ...</td>\n",
       "      <td>Adventure|Animation|Fantasy</td>\n",
       "      <td>567</td>\n",
       "      <td>2.0</td>\n",
       "      <td>2018-05-02 19:13:48</td>\n",
       "      <td>2018</td>\n",
       "    </tr>\n",
       "    <tr>\n",
       "      <th>68045</th>\n",
       "      <td>5618</td>\n",
       "      <td>Spirited Away (Sen to Chihiro no kamikakushi) ...</td>\n",
       "      <td>Adventure|Animation|Fantasy</td>\n",
       "      <td>596</td>\n",
       "      <td>4.5</td>\n",
       "      <td>2018-08-31 09:43:40</td>\n",
       "      <td>2018</td>\n",
       "    </tr>\n",
       "    <tr>\n",
       "      <th>68048</th>\n",
       "      <td>5618</td>\n",
       "      <td>Spirited Away (Sen to Chihiro no kamikakushi) ...</td>\n",
       "      <td>Adventure|Animation|Fantasy</td>\n",
       "      <td>601</td>\n",
       "      <td>5.0</td>\n",
       "      <td>2018-03-18 18:26:40</td>\n",
       "      <td>2018</td>\n",
       "    </tr>\n",
       "    <tr>\n",
       "      <th>68061</th>\n",
       "      <td>5620</td>\n",
       "      <td>Sweet Home Alabama (2002)</td>\n",
       "      <td>Comedy|Romance</td>\n",
       "      <td>111</td>\n",
       "      <td>3.0</td>\n",
       "      <td>2018-01-16 22:21:04</td>\n",
       "      <td>2018</td>\n",
       "    </tr>\n",
       "    <tr>\n",
       "      <th>68072</th>\n",
       "      <td>5620</td>\n",
       "      <td>Sweet Home Alabama (2002)</td>\n",
       "      <td>Comedy|Romance</td>\n",
       "      <td>382</td>\n",
       "      <td>3.5</td>\n",
       "      <td>2018-01-05 17:21:30</td>\n",
       "      <td>2018</td>\n",
       "    </tr>\n",
       "    <tr>\n",
       "      <th>68083</th>\n",
       "      <td>5621</td>\n",
       "      <td>Tuxedo, The (2002)</td>\n",
       "      <td>Action|Comedy</td>\n",
       "      <td>89</td>\n",
       "      <td>5.0</td>\n",
       "      <td>2018-03-07 07:41:14</td>\n",
       "      <td>2018</td>\n",
       "    </tr>\n",
       "    <tr>\n",
       "      <th>68105</th>\n",
       "      <td>5630</td>\n",
       "      <td>Red Dragon (2002)</td>\n",
       "      <td>Crime|Mystery|Thriller</td>\n",
       "      <td>62</td>\n",
       "      <td>5.0</td>\n",
       "      <td>2018-03-19 20:01:28</td>\n",
       "      <td>2018</td>\n",
       "    </tr>\n",
       "    <tr>\n",
       "      <th>68109</th>\n",
       "      <td>5630</td>\n",
       "      <td>Red Dragon (2002)</td>\n",
       "      <td>Crime|Mystery|Thriller</td>\n",
       "      <td>111</td>\n",
       "      <td>0.5</td>\n",
       "      <td>2018-01-16 22:18:41</td>\n",
       "      <td>2018</td>\n",
       "    </tr>\n",
       "  </tbody>\n",
       "</table>\n",
       "</div>"
      ],
      "text/plain": [
       "       movieId                                              title  \\\n",
       "50418     2991                            Live and Let Die (1973)   \n",
       "67981     5618  Spirited Away (Sen to Chihiro no kamikakushi) ...   \n",
       "68006     5618  Spirited Away (Sen to Chihiro no kamikakushi) ...   \n",
       "68027     5618  Spirited Away (Sen to Chihiro no kamikakushi) ...   \n",
       "68043     5618  Spirited Away (Sen to Chihiro no kamikakushi) ...   \n",
       "68045     5618  Spirited Away (Sen to Chihiro no kamikakushi) ...   \n",
       "68048     5618  Spirited Away (Sen to Chihiro no kamikakushi) ...   \n",
       "68061     5620                          Sweet Home Alabama (2002)   \n",
       "68072     5620                          Sweet Home Alabama (2002)   \n",
       "68083     5621                                 Tuxedo, The (2002)   \n",
       "68105     5630                                  Red Dragon (2002)   \n",
       "68109     5630                                  Red Dragon (2002)   \n",
       "\n",
       "                            genres  userId  rating           timestamp  year  \n",
       "50418    Action|Adventure|Thriller     382     3.5 2018-01-05 17:34:39  2018  \n",
       "67981  Adventure|Animation|Fantasy      98     4.0 2018-07-24 18:49:21  2018  \n",
       "68006  Adventure|Animation|Fantasy     306     3.5 2018-02-11 20:18:03  2018  \n",
       "68027  Adventure|Animation|Fantasy     459     5.0 2018-03-05 07:06:55  2018  \n",
       "68043  Adventure|Animation|Fantasy     567     2.0 2018-05-02 19:13:48  2018  \n",
       "68045  Adventure|Animation|Fantasy     596     4.5 2018-08-31 09:43:40  2018  \n",
       "68048  Adventure|Animation|Fantasy     601     5.0 2018-03-18 18:26:40  2018  \n",
       "68061               Comedy|Romance     111     3.0 2018-01-16 22:21:04  2018  \n",
       "68072               Comedy|Romance     382     3.5 2018-01-05 17:21:30  2018  \n",
       "68083                Action|Comedy      89     5.0 2018-03-07 07:41:14  2018  \n",
       "68105       Crime|Mystery|Thriller      62     5.0 2018-03-19 20:01:28  2018  \n",
       "68109       Crime|Mystery|Thriller     111     0.5 2018-01-16 22:18:41  2018  "
      ]
     },
     "execution_count": 61,
     "metadata": {},
     "output_type": "execute_result"
    }
   ],
   "source": [
    "data_2 = data.sort_values(by=\"year\",ascending=False)\n",
    "data_2.head(12)"
   ]
  },
  {
   "cell_type": "markdown",
   "metadata": {},
   "source": [
    "- ¿Cuáles serían las peliículas del año más reciente que menos calificación tuvieron?\n",
    "Parece ser que el último año es el 2018."
   ]
  },
  {
   "cell_type": "code",
   "execution_count": 64,
   "metadata": {},
   "outputs": [
    {
     "data": {
      "text/html": [
       "<div>\n",
       "<style scoped>\n",
       "    .dataframe tbody tr th:only-of-type {\n",
       "        vertical-align: middle;\n",
       "    }\n",
       "\n",
       "    .dataframe tbody tr th {\n",
       "        vertical-align: top;\n",
       "    }\n",
       "\n",
       "    .dataframe thead th {\n",
       "        text-align: right;\n",
       "    }\n",
       "</style>\n",
       "<table border=\"1\" class=\"dataframe\">\n",
       "  <thead>\n",
       "    <tr style=\"text-align: right;\">\n",
       "      <th></th>\n",
       "      <th>movieId</th>\n",
       "      <th>title</th>\n",
       "      <th>genres</th>\n",
       "      <th>userId</th>\n",
       "      <th>rating</th>\n",
       "      <th>timestamp</th>\n",
       "      <th>year</th>\n",
       "    </tr>\n",
       "  </thead>\n",
       "  <tbody>\n",
       "    <tr>\n",
       "      <th>30</th>\n",
       "      <td>1</td>\n",
       "      <td>Toy Story (1995)</td>\n",
       "      <td>Adventure|Animation|Children|Comedy|Fantasy</td>\n",
       "      <td>89</td>\n",
       "      <td>3.0</td>\n",
       "      <td>2018-03-07 07:38:34</td>\n",
       "      <td>2018</td>\n",
       "    </tr>\n",
       "    <tr>\n",
       "      <th>35</th>\n",
       "      <td>1</td>\n",
       "      <td>Toy Story (1995)</td>\n",
       "      <td>Adventure|Animation|Children|Comedy|Fantasy</td>\n",
       "      <td>98</td>\n",
       "      <td>4.5</td>\n",
       "      <td>2018-07-24 18:44:09</td>\n",
       "      <td>2018</td>\n",
       "    </tr>\n",
       "    <tr>\n",
       "      <th>52</th>\n",
       "      <td>1</td>\n",
       "      <td>Toy Story (1995)</td>\n",
       "      <td>Adventure|Animation|Children|Comedy|Fantasy</td>\n",
       "      <td>153</td>\n",
       "      <td>2.0</td>\n",
       "      <td>2018-05-05 19:30:42</td>\n",
       "      <td>2018</td>\n",
       "    </tr>\n",
       "    <tr>\n",
       "      <th>84</th>\n",
       "      <td>1</td>\n",
       "      <td>Toy Story (1995)</td>\n",
       "      <td>Adventure|Animation|Children|Comedy|Fantasy</td>\n",
       "      <td>233</td>\n",
       "      <td>3.0</td>\n",
       "      <td>2018-04-26 22:20:49</td>\n",
       "      <td>2018</td>\n",
       "    </tr>\n",
       "    <tr>\n",
       "      <th>137</th>\n",
       "      <td>1</td>\n",
       "      <td>Toy Story (1995)</td>\n",
       "      <td>Adventure|Animation|Children|Comedy|Fantasy</td>\n",
       "      <td>382</td>\n",
       "      <td>4.5</td>\n",
       "      <td>2018-01-05 14:30:28</td>\n",
       "      <td>2018</td>\n",
       "    </tr>\n",
       "    <tr>\n",
       "      <th>...</th>\n",
       "      <td>...</td>\n",
       "      <td>...</td>\n",
       "      <td>...</td>\n",
       "      <td>...</td>\n",
       "      <td>...</td>\n",
       "      <td>...</td>\n",
       "      <td>...</td>\n",
       "    </tr>\n",
       "    <tr>\n",
       "      <th>100831</th>\n",
       "      <td>193581</td>\n",
       "      <td>Black Butler: Book of the Atlantic (2017)</td>\n",
       "      <td>Action|Animation|Comedy|Fantasy</td>\n",
       "      <td>184</td>\n",
       "      <td>4.0</td>\n",
       "      <td>2018-09-16 14:44:42</td>\n",
       "      <td>2018</td>\n",
       "    </tr>\n",
       "    <tr>\n",
       "      <th>100832</th>\n",
       "      <td>193583</td>\n",
       "      <td>No Game No Life: Zero (2017)</td>\n",
       "      <td>Animation|Comedy|Fantasy</td>\n",
       "      <td>184</td>\n",
       "      <td>3.5</td>\n",
       "      <td>2018-09-16 14:52:25</td>\n",
       "      <td>2018</td>\n",
       "    </tr>\n",
       "    <tr>\n",
       "      <th>100833</th>\n",
       "      <td>193585</td>\n",
       "      <td>Flint (2017)</td>\n",
       "      <td>Drama</td>\n",
       "      <td>184</td>\n",
       "      <td>3.5</td>\n",
       "      <td>2018-09-16 14:56:45</td>\n",
       "      <td>2018</td>\n",
       "    </tr>\n",
       "    <tr>\n",
       "      <th>100834</th>\n",
       "      <td>193587</td>\n",
       "      <td>Bungo Stray Dogs: Dead Apple (2018)</td>\n",
       "      <td>Action|Animation</td>\n",
       "      <td>184</td>\n",
       "      <td>3.5</td>\n",
       "      <td>2018-09-16 15:00:21</td>\n",
       "      <td>2018</td>\n",
       "    </tr>\n",
       "    <tr>\n",
       "      <th>100835</th>\n",
       "      <td>193609</td>\n",
       "      <td>Andrew Dice Clay: Dice Rules (1991)</td>\n",
       "      <td>Comedy</td>\n",
       "      <td>331</td>\n",
       "      <td>4.0</td>\n",
       "      <td>2018-09-17 04:13:26</td>\n",
       "      <td>2018</td>\n",
       "    </tr>\n",
       "  </tbody>\n",
       "</table>\n",
       "<p>6418 rows × 7 columns</p>\n",
       "</div>"
      ],
      "text/plain": [
       "        movieId                                      title  \\\n",
       "30            1                           Toy Story (1995)   \n",
       "35            1                           Toy Story (1995)   \n",
       "52            1                           Toy Story (1995)   \n",
       "84            1                           Toy Story (1995)   \n",
       "137           1                           Toy Story (1995)   \n",
       "...         ...                                        ...   \n",
       "100831   193581  Black Butler: Book of the Atlantic (2017)   \n",
       "100832   193583               No Game No Life: Zero (2017)   \n",
       "100833   193585                               Flint (2017)   \n",
       "100834   193587        Bungo Stray Dogs: Dead Apple (2018)   \n",
       "100835   193609        Andrew Dice Clay: Dice Rules (1991)   \n",
       "\n",
       "                                             genres  userId  rating  \\\n",
       "30      Adventure|Animation|Children|Comedy|Fantasy      89     3.0   \n",
       "35      Adventure|Animation|Children|Comedy|Fantasy      98     4.5   \n",
       "52      Adventure|Animation|Children|Comedy|Fantasy     153     2.0   \n",
       "84      Adventure|Animation|Children|Comedy|Fantasy     233     3.0   \n",
       "137     Adventure|Animation|Children|Comedy|Fantasy     382     4.5   \n",
       "...                                             ...     ...     ...   \n",
       "100831              Action|Animation|Comedy|Fantasy     184     4.0   \n",
       "100832                     Animation|Comedy|Fantasy     184     3.5   \n",
       "100833                                        Drama     184     3.5   \n",
       "100834                             Action|Animation     184     3.5   \n",
       "100835                                       Comedy     331     4.0   \n",
       "\n",
       "                 timestamp  year  \n",
       "30     2018-03-07 07:38:34  2018  \n",
       "35     2018-07-24 18:44:09  2018  \n",
       "52     2018-05-05 19:30:42  2018  \n",
       "84     2018-04-26 22:20:49  2018  \n",
       "137    2018-01-05 14:30:28  2018  \n",
       "...                    ...   ...  \n",
       "100831 2018-09-16 14:44:42  2018  \n",
       "100832 2018-09-16 14:52:25  2018  \n",
       "100833 2018-09-16 14:56:45  2018  \n",
       "100834 2018-09-16 15:00:21  2018  \n",
       "100835 2018-09-17 04:13:26  2018  \n",
       "\n",
       "[6418 rows x 7 columns]"
      ]
     },
     "execution_count": 64,
     "metadata": {},
     "output_type": "execute_result"
    }
   ],
   "source": [
    "last_year = data[data['year'] >= 2018]\n",
    "last_year"
   ]
  },
  {
   "cell_type": "code",
   "execution_count": 75,
   "metadata": {},
   "outputs": [
    {
     "data": {
      "text/plain": [
       "title                                                    genres                               timestamp          \n",
       "Boudu Saved From Drowning (Boudu sauvé des eaux) (1932)  Comedy                               2018-05-02 19:40:50    0.5\n",
       "Silence of the Lambs, The (1991)                         Crime|Horror|Thriller                2018-01-16 22:11:47    0.5\n",
       "Jack and Jill (2011)                                     Comedy                               2018-05-02 19:38:51    0.5\n",
       "Tooth Fairy 2 (2012)                                     Children|Comedy                      2018-05-02 19:36:25    0.5\n",
       "Jennifer's Body (2009)                                   Comedy|Horror|Sci-Fi|Thriller        2018-01-17 01:31:38    0.5\n",
       "Jesus Christ Vampire Hunter (2001)                       Action|Comedy|Horror|Musical         2018-02-21 01:13:16    0.5\n",
       "Tomb Raider (2018)                                       Action|Adventure|Fantasy             2018-05-05 20:44:11    0.5\n",
       "To Be or Not to Be (1942)                                Comedy|Drama|War                     2018-03-07 07:38:57    0.5\n",
       "Journey 2: The Mysterious Island (2012)                  Action|Adventure|Comedy|Sci-Fi|IMAX  2018-05-02 19:36:33    0.5\n",
       "Journey to the Center of the Earth (2008)                Action|Adventure|Sci-Fi              2018-05-02 19:36:35    0.5\n",
       "Police Academy: Mission to Moscow (1994)                 Comedy|Crime                         2018-01-05 14:41:32    0.5\n",
       "Police Academy 6: City Under Siege (1989)                Comedy|Crime                         2018-02-21 20:18:02    0.5\n",
       "Clockwork Orange, A (1971)                               Crime|Drama|Sci-Fi|Thriller          2018-04-11 17:39:53    0.5\n",
       "Police Academy (1984)                                    Comedy|Crime                         2018-05-05 20:37:21    0.5\n",
       "Skin I Live In, The (La piel que habito) (2011)          Drama                                2018-02-09 17:34:58    0.5\n",
       "Clash of the Titans (2010)                               Action|Adventure|Drama|Fantasy       2018-05-02 19:37:34    0.5\n",
       "Amazing Spider-Man, The (2012)                           Action|Adventure|Sci-Fi|IMAX         2018-05-05 20:20:56    0.5\n",
       "Play Time (a.k.a. Playtime) (1967)                       Comedy                               2018-05-02 19:37:59    0.5\n",
       "The Star Wars Holiday Special (1978)                     Adventure|Children|Comedy|Sci-Fi     2018-09-08 04:28:19    0.5\n",
       "Pirates of the Caribbean: On Stranger Tides (2011)       Action|Adventure|Fantasy|IMAX        2018-05-05 20:37:08    0.5\n",
       "Name: rating, dtype: float64"
      ]
     },
     "execution_count": 75,
     "metadata": {},
     "output_type": "execute_result"
    }
   ],
   "source": [
    "pelis_menor_rank = last_year.groupby([\"title\", \"genres\", \"timestamp\"])['rating'].mean()\n",
    "\n",
    "pi = pelis_menor_rank.sort_values(ascending=True)\n",
    "pi.head(20)"
   ]
  },
  {
   "cell_type": "code",
   "execution_count": 66,
   "metadata": {},
   "outputs": [
    {
     "data": {
      "text/plain": [
       "array(['movieId', 'title', 'genres', 'userId', 'rating', 'timestamp',\n",
       "       'year'], dtype=object)"
      ]
     },
     "execution_count": 66,
     "metadata": {},
     "output_type": "execute_result"
    }
   ],
   "source": [
    "data.columns.values"
   ]
  },
  {
   "cell_type": "code",
   "execution_count": null,
   "metadata": {},
   "outputs": [],
   "source": [
    "# cuales son las peliculas con mas antiguedad"
   ]
  }
 ],
 "metadata": {
  "kernelspec": {
   "display_name": ".venv",
   "language": "python",
   "name": "python3"
  },
  "language_info": {
   "codemirror_mode": {
    "name": "ipython",
    "version": 3
   },
   "file_extension": ".py",
   "mimetype": "text/x-python",
   "name": "python",
   "nbconvert_exporter": "python",
   "pygments_lexer": "ipython3",
   "version": "3.10.12"
  }
 },
 "nbformat": 4,
 "nbformat_minor": 2
}
